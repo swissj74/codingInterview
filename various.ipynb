{
 "cells": [
  {
   "cell_type": "code",
   "execution_count": 1,
   "metadata": {
    "collapsed": false
   },
   "outputs": [],
   "source": [
    "def excel_column_name_to_number(column_title):\n",
    "    title_list = list(column_title)\n",
    "    print('Title List: ', title_list)\n",
    "    column_number = 0\n",
    "    letter_nums = { 'A':1, 'B':2, 'C':3, 'D':4, 'E':5, 'F':6, 'G':7, 'H':8, 'I':9, 'J':10, 'K':11, 'L':12, 'M':13, 'N':14, 'O':15, 'P':16, 'Q':17, 'R':18, 'S':19, 'T':20, 'U':21, 'V':22, 'W':23, 'X':24, 'Y':25, 'Z':26}\n",
    "    print('Len Title: ', len(column_title))\n",
    "    i = 1\n",
    "    \n",
    "    for index, char in enumerate(title_list):\n",
    "        print('Column Number: ', column_number)\n",
    "        print('Title char: ', char)\n",
    "        column_number += letter_nums[char] * 26 ** (len(column_title) - (index + 1))\n",
    "        i += 1\n",
    "        \n",
    "    return column_number"
   ]
  },
  {
   "cell_type": "code",
   "execution_count": 2,
   "metadata": {
    "collapsed": false
   },
   "outputs": [
    {
     "name": "stdout",
     "output_type": "stream",
     "text": [
      "Title List:  ['A']\n",
      "Len Title:  1\n",
      "Column Number:  0\n",
      "Title char:  A\n"
     ]
    },
    {
     "data": {
      "text/plain": [
       "1"
      ]
     },
     "execution_count": 2,
     "metadata": {},
     "output_type": "execute_result"
    }
   ],
   "source": [
    "excel_column_name_to_number('A')"
   ]
  },
  {
   "cell_type": "code",
   "execution_count": 3,
   "metadata": {
    "collapsed": false
   },
   "outputs": [
    {
     "name": "stdout",
     "output_type": "stream",
     "text": [
      "Title List:  ['A', 'A']\n",
      "Len Title:  2\n",
      "Column Number:  0\n",
      "Title char:  A\n",
      "Column Number:  26\n",
      "Title char:  A\n"
     ]
    },
    {
     "data": {
      "text/plain": [
       "27"
      ]
     },
     "execution_count": 3,
     "metadata": {},
     "output_type": "execute_result"
    }
   ],
   "source": [
    "excel_column_name_to_number('AA')"
   ]
  },
  {
   "cell_type": "code",
   "execution_count": 4,
   "metadata": {
    "collapsed": false
   },
   "outputs": [
    {
     "name": "stdout",
     "output_type": "stream",
     "text": [
      "Title List:  ['A', 'Z']\n",
      "Len Title:  2\n",
      "Column Number:  0\n",
      "Title char:  A\n",
      "Column Number:  26\n",
      "Title char:  Z\n"
     ]
    },
    {
     "data": {
      "text/plain": [
       "52"
      ]
     },
     "execution_count": 4,
     "metadata": {},
     "output_type": "execute_result"
    }
   ],
   "source": [
    "excel_column_name_to_number('AZ')"
   ]
  },
  {
   "cell_type": "code",
   "execution_count": 5,
   "metadata": {
    "collapsed": false
   },
   "outputs": [
    {
     "name": "stdout",
     "output_type": "stream",
     "text": [
      "Title List:  ['B', 'A']\n",
      "Len Title:  2\n",
      "Column Number:  0\n",
      "Title char:  B\n",
      "Column Number:  52\n",
      "Title char:  A\n"
     ]
    },
    {
     "data": {
      "text/plain": [
       "53"
      ]
     },
     "execution_count": 5,
     "metadata": {},
     "output_type": "execute_result"
    }
   ],
   "source": [
    "excel_column_name_to_number('BA')"
   ]
  },
  {
   "cell_type": "code",
   "execution_count": 6,
   "metadata": {
    "collapsed": false
   },
   "outputs": [
    {
     "name": "stdout",
     "output_type": "stream",
     "text": [
      "Title List:  ['A', 'A', 'B']\n",
      "Len Title:  3\n",
      "Column Number:  0\n",
      "Title char:  A\n",
      "Column Number:  676\n",
      "Title char:  A\n",
      "Column Number:  702\n",
      "Title char:  B\n"
     ]
    },
    {
     "data": {
      "text/plain": [
       "704"
      ]
     },
     "execution_count": 6,
     "metadata": {},
     "output_type": "execute_result"
    }
   ],
   "source": [
    "excel_column_name_to_number('AAB')"
   ]
  },
  {
   "cell_type": "code",
   "execution_count": 24,
   "metadata": {
    "collapsed": false
   },
   "outputs": [
    {
     "ename": "TypeError",
     "evalue": "'int' object is not iterable",
     "output_type": "error",
     "traceback": [
      "\u001b[0;31m---------------------------------------------------------------------------\u001b[0m",
      "\u001b[0;31mTypeError\u001b[0m                                 Traceback (most recent call last)",
      "\u001b[0;32m<ipython-input-24-a270135ef864>\u001b[0m in \u001b[0;36m<module>\u001b[0;34m()\u001b[0m\n\u001b[0;32m----> 1\u001b[0;31m \u001b[0mlist\u001b[0m\u001b[0;34m(\u001b[0m\u001b[0;36m12\u001b[0m\u001b[0;34m)\u001b[0m\u001b[0;34m\u001b[0m\u001b[0m\n\u001b[0m",
      "\u001b[0;31mTypeError\u001b[0m: 'int' object is not iterable"
     ]
    }
   ],
   "source": [
    "list(12)"
   ]
  },
  {
   "cell_type": "code",
   "execution_count": 7,
   "metadata": {
    "collapsed": false
   },
   "outputs": [
    {
     "data": {
      "text/plain": [
       "2"
      ]
     },
     "execution_count": 7,
     "metadata": {},
     "output_type": "execute_result"
    }
   ],
   "source": [
    "int(list(str(12))[1])"
   ]
  },
  {
   "cell_type": "code",
   "execution_count": 47,
   "metadata": {
    "collapsed": true
   },
   "outputs": [],
   "source": [
    "numbers = set()\n",
    "def is_happy_number(number):\n",
    "    next_num = 0\n",
    "        \n",
    "    for digit in list(str(number)):\n",
    "        next_num += (int(digit))**2\n",
    "    \n",
    "    print('next num: ', next_num)\n",
    "        \n",
    "    if next_num == 1:\n",
    "        return True\n",
    "    elif next_num in numbers:\n",
    "        return False\n",
    "    else:\n",
    "        print('adding to set')\n",
    "        numbers.add(next_num)\n",
    "        print('set: ', numbers)\n",
    "        is_happy_number(next_num)"
   ]
  },
  {
   "cell_type": "code",
   "execution_count": 49,
   "metadata": {
    "collapsed": false
   },
   "outputs": [
    {
     "name": "stdout",
     "output_type": "stream",
     "text": [
      "next num:  65\n",
      "False\n"
     ]
    }
   ],
   "source": [
    "print(is_happy_number(18))"
   ]
  },
  {
   "cell_type": "code",
   "execution_count": 93,
   "metadata": {
    "collapsed": false
   },
   "outputs": [],
   "source": [
    "def match(first, second):\n",
    "    i = j = 0\n",
    "    match = True\n",
    "    \n",
    "    for j in range(len(second)):\n",
    "        print('j: ', j, ' second[j]: ', second[j])\n",
    "        print('i: ', i, ' first[i] ', first[i])\n",
    "        if list(first)[i] == list(second)[j]:\n",
    "            i += 1\n",
    "            j += 1\n",
    "        elif first[i] == '?':\n",
    "            i += 1\n",
    "            j += 1\n",
    "        elif first[i] == '*' and i + 1 < len(first):\n",
    "            i += 1\n",
    "            while first[i] != second[j]:\n",
    "                j += 1\n",
    "        elif first[i] == '*': \n",
    "            while j < len(second):\n",
    "                j += 1\n",
    "        else:\n",
    "            match = False\n",
    "            \n",
    "    return match"
   ]
  },
  {
   "cell_type": "code",
   "execution_count": 95,
   "metadata": {
    "collapsed": false
   },
   "outputs": [
    {
     "name": "stdout",
     "output_type": "stream",
     "text": [
      "j:  0  second[j]:  f\n",
      "i:  0  first[i]  f\n",
      "j:  1  second[j]:  i\n",
      "i:  1  first[i]  i\n",
      "j:  2  second[j]:  r\n",
      "i:  2  first[i]  *\n"
     ]
    },
    {
     "ename": "IndexError",
     "evalue": "string index out of range",
     "output_type": "error",
     "traceback": [
      "\u001b[0;31m---------------------------------------------------------------------------\u001b[0m",
      "\u001b[0;31mIndexError\u001b[0m                                Traceback (most recent call last)",
      "\u001b[0;32m<ipython-input-95-96b3334edb94>\u001b[0m in \u001b[0;36m<module>\u001b[0;34m()\u001b[0m\n\u001b[0;32m----> 1\u001b[0;31m \u001b[0mmatch\u001b[0m\u001b[0;34m(\u001b[0m\u001b[0;34m'fi*t'\u001b[0m\u001b[0;34m,\u001b[0m \u001b[0;34m'firrrrre'\u001b[0m\u001b[0;34m)\u001b[0m\u001b[0;34m\u001b[0m\u001b[0m\n\u001b[0m",
      "\u001b[0;32m<ipython-input-93-d451718aa54f>\u001b[0m in \u001b[0;36mmatch\u001b[0;34m(first, second)\u001b[0m\n\u001b[1;32m     14\u001b[0m         \u001b[0;32melif\u001b[0m \u001b[0mfirst\u001b[0m\u001b[0;34m[\u001b[0m\u001b[0mi\u001b[0m\u001b[0;34m]\u001b[0m \u001b[0;34m==\u001b[0m \u001b[0;34m'*'\u001b[0m \u001b[0;32mand\u001b[0m \u001b[0mi\u001b[0m \u001b[0;34m+\u001b[0m \u001b[0;36m1\u001b[0m \u001b[0;34m<\u001b[0m \u001b[0mlen\u001b[0m\u001b[0;34m(\u001b[0m\u001b[0mfirst\u001b[0m\u001b[0;34m)\u001b[0m\u001b[0;34m:\u001b[0m\u001b[0;34m\u001b[0m\u001b[0m\n\u001b[1;32m     15\u001b[0m             \u001b[0mi\u001b[0m \u001b[0;34m+=\u001b[0m \u001b[0;36m1\u001b[0m\u001b[0;34m\u001b[0m\u001b[0m\n\u001b[0;32m---> 16\u001b[0;31m             \u001b[0;32mwhile\u001b[0m \u001b[0mfirst\u001b[0m\u001b[0;34m[\u001b[0m\u001b[0mi\u001b[0m\u001b[0;34m]\u001b[0m \u001b[0;34m!=\u001b[0m \u001b[0msecond\u001b[0m\u001b[0;34m[\u001b[0m\u001b[0mj\u001b[0m\u001b[0;34m]\u001b[0m\u001b[0;34m:\u001b[0m\u001b[0;34m\u001b[0m\u001b[0m\n\u001b[0m\u001b[1;32m     17\u001b[0m                 \u001b[0mj\u001b[0m \u001b[0;34m+=\u001b[0m \u001b[0;36m1\u001b[0m\u001b[0;34m\u001b[0m\u001b[0m\n\u001b[1;32m     18\u001b[0m         \u001b[0;32melif\u001b[0m \u001b[0mfirst\u001b[0m\u001b[0;34m[\u001b[0m\u001b[0mi\u001b[0m\u001b[0;34m]\u001b[0m \u001b[0;34m==\u001b[0m \u001b[0;34m'*'\u001b[0m\u001b[0;34m:\u001b[0m\u001b[0;34m\u001b[0m\u001b[0m\n",
      "\u001b[0;31mIndexError\u001b[0m: string index out of range"
     ]
    }
   ],
   "source": [
    "match('fi*t', 'firrrrre')"
   ]
  },
  {
   "cell_type": "code",
   "execution_count": 103,
   "metadata": {
    "collapsed": true
   },
   "outputs": [],
   "source": [
    "def is_happy_number(number):\n",
    "    next_num = sum_of_squares_of_digits(number)\n",
    "    is_happy = False\n",
    "    num_set = set()\n",
    "    print(num_set)\n",
    "    \n",
    "    while is_happy == False:\n",
    "        print(next_num)\n",
    "        if next_num == 1:\n",
    "            return True\n",
    "        \n",
    "        if next_num in num_set:\n",
    "            return False\n",
    "        \n",
    "        num_set.add(next_num)\n",
    "        next_num = sum_of_squares_of_digits(next_num)\n",
    "    \n",
    "def sum_of_squares_of_digits(number):\n",
    "    next_num = 0\n",
    "    \n",
    "    for digit in list(str(number)):\n",
    "        next_num += (int(digit))**2\n",
    "        \n",
    "    return next_num"
   ]
  },
  {
   "cell_type": "code",
   "execution_count": 105,
   "metadata": {
    "collapsed": false
   },
   "outputs": [
    {
     "name": "stdout",
     "output_type": "stream",
     "text": [
      "set()\n",
      "65\n",
      "61\n",
      "37\n",
      "58\n",
      "89\n",
      "145\n",
      "42\n",
      "20\n",
      "4\n",
      "16\n",
      "37\n"
     ]
    },
    {
     "data": {
      "text/plain": [
       "False"
      ]
     },
     "execution_count": 105,
     "metadata": {},
     "output_type": "execute_result"
    }
   ],
   "source": [
    "is_happy_number(18)"
   ]
  },
  {
   "cell_type": "code",
   "execution_count": 6,
   "metadata": {
    "collapsed": true
   },
   "outputs": [],
   "source": [
    "def excel_column_to_name(column_number):\n",
    "    output = \"\"\n",
    "    index = column_number - 1\n",
    "    while index >= 0:\n",
    "        character = chr((index%26) + ord('A'))\n",
    "        output = output + character\n",
    "        index = int(index/26 - 1)\n",
    "        \n",
    "    return output[::-1]"
   ]
  },
  {
   "cell_type": "code",
   "execution_count": 7,
   "metadata": {
    "collapsed": false
   },
   "outputs": [
    {
     "data": {
      "text/plain": [
       "'AAB'"
      ]
     },
     "execution_count": 7,
     "metadata": {},
     "output_type": "execute_result"
    }
   ],
   "source": [
    "excel_column_to_name(704)"
   ]
  },
  {
   "cell_type": "code",
   "execution_count": 146,
   "metadata": {
    "collapsed": true
   },
   "outputs": [],
   "source": [
    "def array_left_rotation(a, n, d):\n",
    "    print(a, n, d)\n",
    "    if d == n:\n",
    "        return a\n",
    "    \n",
    "    first_d_items = [a[i] for i in range(d)]\n",
    "    print(first_d_items)\n",
    "    rest = [a[i] for i in range(d, n)]\n",
    "    print(rest)\n",
    "    \n",
    "    new_a = rest + first_d_items\n",
    "    \n",
    "    return new_a\n",
    "    \n",
    "    \n",
    "    "
   ]
  },
  {
   "cell_type": "code",
   "execution_count": 138,
   "metadata": {
    "collapsed": false
   },
   "outputs": [
    {
     "name": "stdout",
     "output_type": "stream",
     "text": [
      "5 4\n",
      "1 2 3 4 5\n",
      "[1, 2, 3, 4, 5] 5 4\n",
      "[1, 2, 3, 4]\n",
      "None\n"
     ]
    }
   ],
   "source": [
    "n, k = map(int, input().strip().split(' '))\n",
    "a = list(map(int, input().strip().split(' ')))\n",
    "answer = array_left_rotation(a, n, k);\n",
    "print(answer)"
   ]
  },
  {
   "cell_type": "code",
   "execution_count": 147,
   "metadata": {
    "collapsed": false
   },
   "outputs": [
    {
     "name": "stdout",
     "output_type": "stream",
     "text": [
      "[1, 2, 3, 4, 5] 5 4\n",
      "[1, 2, 3, 4]\n",
      "[5]\n",
      "[5, 1, 2, 3, 4]\n"
     ]
    }
   ],
   "source": [
    "answer = array_left_rotation(a, n, k);\n",
    "print(answer)"
   ]
  },
  {
   "cell_type": "code",
   "execution_count": 153,
   "metadata": {
    "collapsed": true
   },
   "outputs": [],
   "source": [
    "def ransom_note(magazine, ransom):\n",
    "    \n",
    "    for word in ransom:\n",
    "        print(word)\n",
    "        if word not in magazine:\n",
    "            return False\n",
    "    return True"
   ]
  },
  {
   "cell_type": "code",
   "execution_count": 155,
   "metadata": {
    "collapsed": false
   },
   "outputs": [
    {
     "name": "stdout",
     "output_type": "stream",
     "text": [
      "imjaw\n",
      "l\n",
      "khmla\n",
      "x\n",
      "imjaw\n",
      "o\n",
      "l\n",
      "l\n",
      "o\n",
      "khmla\n",
      "v\n",
      "bee\n",
      "o\n",
      "o\n",
      "imjaw\n",
      "imjaw\n",
      "o\n",
      "True\n"
     ]
    }
   ],
   "source": [
    "magazine = \"o l x imjaw bee khmla v o v o imjaw l khmla imjaw x\".strip().split()\n",
    "ransom = 'imjaw l khmla x imjaw o l l o khmla v bee o o imjaw imjaw o'.strip().split()\n",
    "answer = ransom_note(magazine, ransom)\n",
    "print(answer)"
   ]
  },
  {
   "cell_type": "code",
   "execution_count": null,
   "metadata": {
    "collapsed": true
   },
   "outputs": [],
   "source": [
    "class Node(object):\n",
    "    def __init__(self, letters=None):\n",
    "        self.letters = letters\n",
    "        self.children = {}\n",
    "        self.num_occurences = 1\n",
    "\n",
    "    def expand(self):\n",
    "        if not self.letters:\n",
    "            return\n",
    "        self.children[self.letters[0]] = Node(self.letters[1:])\n",
    "        self.letters = None\n",
    "\n",
    "\n",
    "class Trie(object):\n",
    "    def __init__(self):\n",
    "        self.root = Node()\n",
    "\n",
    "    def add_contact(self, contact):\n",
    "        node = self.root\n",
    "        for i, letter in enumerate(contact):\n",
    "            if letter not in node.children:\n",
    "                new_node = Node(letters=contact[i + 1:])\n",
    "                node.children[letter] = new_node\n",
    "                break\n",
    "            else:\n",
    "                node = node.children[letter]\n",
    "                node.expand()\n",
    "                node.num_occurences += 1\n",
    "\n",
    "    def get_num_occurences(self, contact):\n",
    "        node = self.root\n",
    "        for letter in contact:\n",
    "            if letter not in node.children:\n",
    "                return 0\n",
    "            node = node.children[letter]\n",
    "            node.expand()\n",
    "        return node.num_occurences\n",
    "           "
   ]
  },
  {
   "cell_type": "code",
   "execution_count": 158,
   "metadata": {
    "collapsed": false
   },
   "outputs": [
    {
     "name": "stdout",
     "output_type": "stream",
     "text": [
      "4\n",
      "add hack\n",
      "add hackerrank\n",
      "find hac\n",
      "2\n",
      "find hak\n",
      "0\n"
     ]
    }
   ],
   "source": [
    "     \n",
    "            \n",
    "        \n",
    "n = int(input().strip())\n",
    "trie = Trie()\n",
    "for i in range(n):\n",
    "    op, contact = input().strip().split(' ')\n",
    "    if op == 'add':\n",
    "        trie.add_contact(contact)\n",
    "    else:\n",
    "        print(trie.get_num_occurences(contact))"
   ]
  },
  {
   "cell_type": "code",
   "execution_count": 159,
   "metadata": {
    "collapsed": true
   },
   "outputs": [],
   "source": [
    "class MyQueue(object):\n",
    "    def __init__(self):\n",
    "        self.mouth = []\n",
    "        self.butt = []\n",
    "    \n",
    "    def peek(self):\n",
    "        self.digest()\n",
    "        return self.butt[-1]\n",
    "        \n",
    "    def pop(self):\n",
    "        self.digest()\n",
    "        return self.butt.pop()\n",
    "        \n",
    "    def put(self, value):\n",
    "        self.mouth.append(value)\n",
    "        \n",
    "    def digest(self):\n",
    "        if len(self.butt) == 0:\n",
    "            while len(self.mouth) > 0:\n",
    "                self.butt.append(self.mouth.pop())"
   ]
  },
  {
   "cell_type": "code",
   "execution_count": 25,
   "metadata": {
    "collapsed": true
   },
   "outputs": [],
   "source": [
    "def distributeChocolate(points):\n",
    "    if points == []:\n",
    "        return 0\n",
    "        \n",
    "    if len(points) == 1:\n",
    "        return 1\n",
    "    \n",
    "    chocolates = []\n",
    "    chocolates.append(1)\n",
    "    \n",
    "    for i in range(1, len(points) - 1):\n",
    "        print('Chocolates at', i, ':', chocolates)\n",
    "        if points[i] > points[i - 1]:\n",
    "            chocolates.append(chocolates[i - 1] + 1)\n",
    "        else:\n",
    "            chocolates.append(1)\n",
    "    chocolates.append(1)\n",
    "            \n",
    "    for i in range(len(points) -2, -1, -1):\n",
    "        print('i:', i)\n",
    "        if points[i] > points[i + 1]:\n",
    "            chocolates[i] = max(chocolates[i], chocolates[i + 1] + 1)\n",
    "            \n",
    "            \n",
    "    return sum(chocolates)"
   ]
  },
  {
   "cell_type": "code",
   "execution_count": 26,
   "metadata": {
    "collapsed": false
   },
   "outputs": [
    {
     "name": "stdout",
     "output_type": "stream",
     "text": [
      "Chocolates at 1 : [1]\n",
      "Chocolates at 2 : [1, 2]\n",
      "Chocolates at 3 : [1, 2, 1]\n",
      "Chocolates at 4 : [1, 2, 1, 1]\n",
      "Chocolates at 5 : [1, 2, 1, 1, 1]\n",
      "i: 5\n",
      "i: 4\n",
      "i: 3\n",
      "i: 2\n",
      "i: 1\n",
      "i: 0\n"
     ]
    },
    {
     "data": {
      "text/plain": [
       "12"
      ]
     },
     "execution_count": 26,
     "metadata": {},
     "output_type": "execute_result"
    }
   ],
   "source": [
    "a_list = [2, 3, 3, 2, 1, 5, 2]\n",
    "distributeChocolate(a_list)"
   ]
  },
  {
   "cell_type": "code",
   "execution_count": 27,
   "metadata": {
    "collapsed": true
   },
   "outputs": [],
   "source": [
    "def better_fibonacci(n):\n",
    "    memory = {}\n",
    "    return better_fibonacci_helper(n, memory)\n",
    "    \n",
    "def better_fibonacci_helper(n, memory):\n",
    "    if n == 0:\n",
    "        return 0\n",
    "    if n == 1:\n",
    "        return 1\n",
    "    \n",
    "    if n in memory.keys():\n",
    "        return memory[n] \n",
    "    else:\n",
    "        memory[n] = better_fibonacci_helper(n - 1) + better_fibonacci_helper(n - 2)\n",
    "        print(memory[n])\n",
    "    \n",
    "    return memory[n]"
   ]
  },
  {
   "cell_type": "code",
   "execution_count": 28,
   "metadata": {
    "collapsed": false
   },
   "outputs": [
    {
     "ename": "TypeError",
     "evalue": "better_fibonacci_helper() missing 1 required positional argument: 'memory'",
     "output_type": "error",
     "traceback": [
      "\u001b[0;31m---------------------------------------------------------------------------\u001b[0m",
      "\u001b[0;31mTypeError\u001b[0m                                 Traceback (most recent call last)",
      "\u001b[0;32m<ipython-input-28-20f2a5357e77>\u001b[0m in \u001b[0;36m<module>\u001b[0;34m()\u001b[0m\n\u001b[0;32m----> 1\u001b[0;31m \u001b[0mbetter_fibonacci\u001b[0m\u001b[0;34m(\u001b[0m\u001b[0;36m2\u001b[0m\u001b[0;34m)\u001b[0m\u001b[0;34m\u001b[0m\u001b[0m\n\u001b[0m",
      "\u001b[0;32m<ipython-input-27-52ae7e5dad16>\u001b[0m in \u001b[0;36mbetter_fibonacci\u001b[0;34m(n)\u001b[0m\n\u001b[1;32m      1\u001b[0m \u001b[0;32mdef\u001b[0m \u001b[0mbetter_fibonacci\u001b[0m\u001b[0;34m(\u001b[0m\u001b[0mn\u001b[0m\u001b[0;34m)\u001b[0m\u001b[0;34m:\u001b[0m\u001b[0;34m\u001b[0m\u001b[0m\n\u001b[1;32m      2\u001b[0m     \u001b[0mmemory\u001b[0m \u001b[0;34m=\u001b[0m \u001b[0;34m{\u001b[0m\u001b[0;34m}\u001b[0m\u001b[0;34m\u001b[0m\u001b[0m\n\u001b[0;32m----> 3\u001b[0;31m     \u001b[0;32mreturn\u001b[0m \u001b[0mbetter_fibonacci_helper\u001b[0m\u001b[0;34m(\u001b[0m\u001b[0mn\u001b[0m\u001b[0;34m,\u001b[0m \u001b[0mmemory\u001b[0m\u001b[0;34m)\u001b[0m\u001b[0;34m\u001b[0m\u001b[0m\n\u001b[0m\u001b[1;32m      4\u001b[0m \u001b[0;34m\u001b[0m\u001b[0m\n\u001b[1;32m      5\u001b[0m \u001b[0;32mdef\u001b[0m \u001b[0mbetter_fibonacci_helper\u001b[0m\u001b[0;34m(\u001b[0m\u001b[0mn\u001b[0m\u001b[0;34m,\u001b[0m \u001b[0mmemory\u001b[0m\u001b[0;34m)\u001b[0m\u001b[0;34m:\u001b[0m\u001b[0;34m\u001b[0m\u001b[0m\n",
      "\u001b[0;32m<ipython-input-27-52ae7e5dad16>\u001b[0m in \u001b[0;36mbetter_fibonacci_helper\u001b[0;34m(n, memory)\u001b[0m\n\u001b[1;32m     12\u001b[0m         \u001b[0;32mreturn\u001b[0m \u001b[0mmemory\u001b[0m\u001b[0;34m[\u001b[0m\u001b[0mn\u001b[0m\u001b[0;34m]\u001b[0m\u001b[0;34m\u001b[0m\u001b[0m\n\u001b[1;32m     13\u001b[0m     \u001b[0;32melse\u001b[0m\u001b[0;34m:\u001b[0m\u001b[0;34m\u001b[0m\u001b[0m\n\u001b[0;32m---> 14\u001b[0;31m         \u001b[0mmemory\u001b[0m\u001b[0;34m[\u001b[0m\u001b[0mn\u001b[0m\u001b[0;34m]\u001b[0m \u001b[0;34m=\u001b[0m \u001b[0mbetter_fibonacci_helper\u001b[0m\u001b[0;34m(\u001b[0m\u001b[0mn\u001b[0m \u001b[0;34m-\u001b[0m \u001b[0;36m1\u001b[0m\u001b[0;34m)\u001b[0m \u001b[0;34m+\u001b[0m \u001b[0mbetter_fibonacci_helper\u001b[0m\u001b[0;34m(\u001b[0m\u001b[0mn\u001b[0m \u001b[0;34m-\u001b[0m \u001b[0;36m2\u001b[0m\u001b[0;34m)\u001b[0m\u001b[0;34m\u001b[0m\u001b[0m\n\u001b[0m\u001b[1;32m     15\u001b[0m         \u001b[0mprint\u001b[0m\u001b[0;34m(\u001b[0m\u001b[0mmemory\u001b[0m\u001b[0;34m[\u001b[0m\u001b[0mn\u001b[0m\u001b[0;34m]\u001b[0m\u001b[0;34m)\u001b[0m\u001b[0;34m\u001b[0m\u001b[0m\n\u001b[1;32m     16\u001b[0m \u001b[0;34m\u001b[0m\u001b[0m\n",
      "\u001b[0;31mTypeError\u001b[0m: better_fibonacci_helper() missing 1 required positional argument: 'memory'"
     ]
    }
   ],
   "source": [
    "better_fibonacci(2)"
   ]
  },
  {
   "cell_type": "code",
   "execution_count": 32,
   "metadata": {
    "collapsed": true
   },
   "outputs": [],
   "source": [
    "class Range(object):\n",
    "    def __init__(self):\n",
    "        self.lower_bound = -1\n",
    "        self.upper_bound = -1\n",
    "    \n",
    "    def __init__(self,lower_bound,upper_bound):\n",
    "        self.lower_bound = lower_bound\n",
    "        self.upper_bound = upper_bound\n",
    " \n",
    "    def __str__(self):\n",
    "        return \"[\"+str(self.lower_bound)+\",\"+str(self.upper_bound)+\"]\"\n"
   ]
  },
  {
   "cell_type": "code",
   "execution_count": 51,
   "metadata": {
    "collapsed": true
   },
   "outputs": [],
   "source": [
    "def find_range(input_list,input_number):\n",
    "    if input_list == []:\n",
    "        return []\n",
    "    \n",
    "    lower_bound = -1\n",
    "    upper_bound = -1\n",
    "    \n",
    "    for index, number in enumerate(input_list):\n",
    "        print(index, number)\n",
    "        if lower_bound == -1 and number == input_number:\n",
    "            print(\"setting lower bound\")\n",
    "            lower_bound = index \n",
    "        elif lower_bound != -1 and upper_bound == -1 and (number != input_number or index == len(input_list) - 1):\n",
    "            print('setting upper bound')\n",
    "            \n",
    "            upper_bound = (index - 1) \n",
    "    print(lower_bound, \",\", upper_bound)\n",
    "    return Range(lower_bound, upper_bound)"
   ]
  },
  {
   "cell_type": "code",
   "execution_count": 52,
   "metadata": {
    "collapsed": true
   },
   "outputs": [],
   "source": [
    "list = [1,3,5, 7]"
   ]
  },
  {
   "cell_type": "code",
   "execution_count": 53,
   "metadata": {
    "collapsed": false
   },
   "outputs": [
    {
     "name": "stdout",
     "output_type": "stream",
     "text": [
      "0 1\n",
      "1 3\n",
      "setting lower bound\n",
      "2 5\n",
      "setting upper bound\n",
      "3 7\n",
      "1 , 1\n"
     ]
    },
    {
     "data": {
      "text/plain": [
       "<__main__.Range at 0x7f1381fc8668>"
      ]
     },
     "execution_count": 53,
     "metadata": {},
     "output_type": "execute_result"
    }
   ],
   "source": [
    "find_range(list, 3)"
   ]
  },
  {
   "cell_type": "code",
   "execution_count": 54,
   "metadata": {
    "collapsed": false
   },
   "outputs": [
    {
     "data": {
      "text/plain": [
       "2"
      ]
     },
     "execution_count": 54,
     "metadata": {},
     "output_type": "execute_result"
    }
   ],
   "source": [
    "-1 % 3\n"
   ]
  },
  {
   "cell_type": "code",
   "execution_count": 55,
   "metadata": {
    "collapsed": false
   },
   "outputs": [
    {
     "data": {
      "text/plain": [
       "2"
      ]
     },
     "execution_count": 55,
     "metadata": {},
     "output_type": "execute_result"
    }
   ],
   "source": [
    "-10 % 3\n"
   ]
  },
  {
   "cell_type": "code",
   "execution_count": 56,
   "metadata": {
    "collapsed": false
   },
   "outputs": [
    {
     "data": {
      "text/plain": [
       "0"
      ]
     },
     "execution_count": 56,
     "metadata": {},
     "output_type": "execute_result"
    }
   ],
   "source": [
    "-3 % 3"
   ]
  },
  {
   "cell_type": "code",
   "execution_count": 57,
   "metadata": {
    "collapsed": false
   },
   "outputs": [
    {
     "data": {
      "text/plain": [
       "1"
      ]
     },
     "execution_count": 57,
     "metadata": {},
     "output_type": "execute_result"
    }
   ],
   "source": [
    "-2 % 3\n"
   ]
  },
  {
   "cell_type": "code",
   "execution_count": 72,
   "metadata": {
    "collapsed": false
   },
   "outputs": [],
   "source": [
    "def rotate_left(list_numbers,k):\n",
    "    length = len(list_numbers)\n",
    "    if list_numbers is None:\n",
    "        return list_numbers\n",
    "    \n",
    "    if k < 0:\n",
    "        k = length - k % length\n",
    "    else:\n",
    "        k = k % length\n",
    "        \n",
    "    print(list_numbers[k:])\n",
    "    print(list_numbers[0:k])\n",
    "    print(list_numbers[k:].append(list_numbers[0:k]))\n",
    "    \n",
    "    return list_numbers[k:] + list_numbers[0:k]"
   ]
  },
  {
   "cell_type": "code",
   "execution_count": 73,
   "metadata": {
    "collapsed": false
   },
   "outputs": [
    {
     "name": "stdout",
     "output_type": "stream",
     "text": [
      "[5, 7]\n",
      "[1, 3]\n",
      "None\n",
      "[5, 7, 1, 3]\n"
     ]
    }
   ],
   "source": [
    "print(rotate_left(list, 2))"
   ]
  },
  {
   "cell_type": "code",
   "execution_count": 74,
   "metadata": {
    "collapsed": false
   },
   "outputs": [
    {
     "ename": "SyntaxError",
     "evalue": "invalid syntax (<ipython-input-74-54c1555e81fb>, line 5)",
     "output_type": "error",
     "traceback": [
      "\u001b[0;36m  File \u001b[0;32m\"<ipython-input-74-54c1555e81fb>\"\u001b[0;36m, line \u001b[0;32m5\u001b[0m\n\u001b[0;31m    if  is None:\u001b[0m\n\u001b[0m         ^\u001b[0m\n\u001b[0;31mSyntaxError\u001b[0m\u001b[0;31m:\u001b[0m invalid syntax\n"
     ]
    }
   ],
   "source": [
    "def preorder_iterative():\n",
    "    pre_ordered_List = []\n",
    "    stack = []\n",
    "        \n",
    "    if  is None:\n",
    "        return pre_ordered_List\n",
    "\n",
    "    current = self\n",
    "    stack.append(current)\n",
    "\n",
    "    while stack != []:\n",
    "        node = stack.pop()\n",
    "        pre_ordered_List.append(node.data)\n",
    "        if node.right_child:\n",
    "            stack.append(node)\n",
    "        if node.left_child:\n",
    "            stack.append(node)\n",
    "        current = stack.pop()"
   ]
  },
  {
   "cell_type": "code",
   "execution_count": 2,
   "metadata": {
    "collapsed": true
   },
   "outputs": [],
   "source": [
    "def print_paths_helper(x, y, board):\n",
    "    m = len(board)\n",
    "    n = len(board[0])\n",
    "    path_list = []\n",
    "#   print(x,y)\n",
    "    \n",
    "    if x == m - 1 and y == n - 1:\n",
    "        return [board[x][y]]\n",
    "        \n",
    "    if x < m - 1:\n",
    "        paths = print_paths_helper(x + 1, y, board)\n",
    "        for path in paths:\n",
    "            path_list.append(board[x][y] + path)\n",
    "        \n",
    "    if y < n - 1:\n",
    "        paths = print_paths_helper(x, y + 1, board)\n",
    "        for path in paths:\n",
    "            path_list.append(board[x][y] + path)\n",
    "\n",
    "    return path_list\n",
    "    \n",
    "def print_paths(board):\n",
    "    outlist = []\n",
    "    if board is None:\n",
    "        return None\n",
    "    if board == [[]]:\n",
    "        return []\n",
    "    return print_paths_helper(0, 0, board)"
   ]
  },
  {
   "cell_type": "code",
   "execution_count": 5,
   "metadata": {
    "collapsed": false
   },
   "outputs": [
    {
     "name": "stdout",
     "output_type": "stream",
     "text": [
      "['ABC']\n",
      "['ABC']\n",
      "['ADEF', 'ABEF', 'ABCF']\n",
      "['ADGJKL', 'ADGHKL', 'ADGHIL', 'ADEHKL', 'ADEHIL', 'ADEFIL', 'ABEHKL', 'ABEHIL', 'ABEFIL', 'ABCFIL']\n",
      "['AEIMNOP', 'AEIJNOP', 'AEIJKOP', 'AEIJKLP', 'AEFJNOP', 'AEFJKOP', 'AEFJKLP', 'AEFGKOP', 'AEFGKLP', 'AEFGHLP', 'ABFJNOP', 'ABFJKOP', 'ABFJKLP', 'ABFGKOP', 'ABFGKLP', 'ABFGHLP', 'ABCGKOP', 'ABCGKLP', 'ABCGHLP', 'ABCDHLP']\n",
      "['AEIJKL', 'AEFJKL', 'AEFGKL', 'AEFGHL', 'ABFJKL', 'ABFGKL', 'ABFGHL', 'ABCGKL', 'ABCGHL', 'ABCDHL']\n",
      "['AEIMNOP', 'AEIJNOP', 'AEIJKOP', 'AEIJKLP', 'AEFJNOP', 'AEFJKOP', 'AEFJKLP', 'AEFGKOP', 'AEFGKLP', 'AEFGHLP', 'ABFJNOP', 'ABFJKOP', 'ABFJKLP', 'ABFGKOP', 'ABFGKLP', 'ABFGHLP', 'ABCGKOP', 'ABCGKLP', 'ABCGHLP', 'ABCDHLP']\n",
      "['ABCD']\n"
     ]
    }
   ],
   "source": [
    "print(print_paths([['A'],['B'],['C']]))\n",
    "print(print_paths([['A','B','C']]))\n",
    "print(print_paths([['A','B','C'],['D', 'E', 'F']]))\n",
    "print(print_paths([['A','B','C'],['D', 'E', 'F'], ['G', 'H', 'I'],['J', 'K', 'L']]))\n",
    "print(print_paths([['A','B','C', 'D'],['E', 'F', 'G', 'H'], ['I', 'J', 'K', 'L'],['M', 'N', 'O', 'P']]))\n",
    "print(print_paths([\n",
    "  ['A', 'B', 'C', 'D'],\n",
    "  ['E', 'F', 'G', 'H'],\n",
    "  ['I', 'J', 'K', 'L']\n",
    "]))\n",
    "print(print_paths([\n",
    "  ['A', 'B', 'C', 'D'],\n",
    "  ['E', 'F', 'G', 'H'],\n",
    "  ['I', 'J', 'K', 'L'],\n",
    "  ['M', 'N', 'O', 'P']\n",
    "]))\n",
    "print(print_paths([\n",
    "  ['A'],\n",
    "  ['B'],\n",
    "  ['C'],\n",
    "  ['D']\n",
    "]))"
   ]
  },
  {
   "cell_type": "code",
   "execution_count": 151,
   "metadata": {
    "collapsed": false
   },
   "outputs": [
    {
     "name": "stdout",
     "output_type": "stream",
     "text": [
      "439\n",
      "2\n"
     ]
    }
   ],
   "source": [
    "\n",
    "import sys\n",
    "\n",
    "\n",
    "n = int(input().strip())\n",
    "binary_n = format(n, 'b')\n",
    "one_count = 0\n",
    "max_one_count = 0\n",
    "one_flag = False\n",
    "for char in binary_n:\n",
    "    if char == '1' and one_flag is False:\n",
    "        one_count = 1\n",
    "        one_flag = True\n",
    "    elif char == '1' and one_flag is True:\n",
    "        one_count += 1\n",
    "    elif char == '0' and one_flag is True:\n",
    "        if max_one_count < one_count:\n",
    "            max_one_count = one_count\n",
    "        one_flag = False\n",
    "        \n",
    "print(max_one_count)\n"
   ]
  },
  {
   "cell_type": "code",
   "execution_count": 152,
   "metadata": {
    "collapsed": false
   },
   "outputs": [
    {
     "data": {
      "text/plain": [
       "'110110111'"
      ]
     },
     "execution_count": 152,
     "metadata": {},
     "output_type": "execute_result"
    }
   ],
   "source": [
    "format(439, 'b')"
   ]
  },
  {
   "cell_type": "code",
   "execution_count": null,
   "metadata": {
    "collapsed": true
   },
   "outputs": [],
   "source": []
  },
  {
   "cell_type": "code",
   "execution_count": 76,
   "metadata": {
    "collapsed": false
   },
   "outputs": [],
   "source": [
    "def find_partitions(input_list):\n",
    "    out_list = []\n",
    "    i = 0\n",
    "    while i  < (len(input_list)):\n",
    "        start = input_list[i]\n",
    "        current = input_list[i]\n",
    "        \n",
    "        while i < (len(input_list) - 1) and current + 1 == input_list[i + 1]:\n",
    "            i += 1\n",
    "            current = input_list[i]\n",
    "        \n",
    "        end = current\n",
    "        \n",
    "        if start != end:\n",
    "            out_string = str(start) + '-' + str(end)\n",
    "            out_list.append(out_string)\n",
    "        else:\n",
    "            out_list.append(str(end))\n",
    "        \n",
    "        i += 1\n",
    "        \n",
    "    \n",
    "    return out_list"
   ]
  },
  {
   "cell_type": "code",
   "execution_count": 77,
   "metadata": {
    "collapsed": false
   },
   "outputs": [
    {
     "name": "stdout",
     "output_type": "stream",
     "text": [
      "['1-3', '6-8', '10-11']\n",
      "['1', '3', '5', '7']\n"
     ]
    }
   ],
   "source": [
    "print(find_partitions([1,2,3,6,7,8,10,11]))\n",
    "print(find_partitions([1,3,5,7]))"
   ]
  },
  {
   "cell_type": "code",
   "execution_count": 100,
   "metadata": {
    "collapsed": false
   },
   "outputs": [],
   "source": [
    "def find_ranges(prices):\n",
    "    range_list = []\n",
    "    \n",
    "    for index, price in enumerate(prices):        \n",
    "        for j in range(index, len(prices)):\n",
    "            if prices[j] - price > 0:\n",
    "                range_list.append([index, j, (prices[j] - price)])\n",
    "    return range_list\n",
    "\n",
    "def find_overlap(range_list):\n",
    "    \n",
    "    if range_list == []:\n",
    "        return []\n",
    "    \n",
    "    for index, a_range in enumerate(range_list):\n",
    "        if index < len(range_list) - 1:\n",
    "            next_range = range_list[index + 1]\n",
    "            if a_range[1] > next_range[0]:\n",
    "                if a_range[2] >= next_range[2]:\n",
    "                    del range_list[index + 1]\n",
    "                else:\n",
    "                    del range_list[index]\n",
    "    return range_list\n",
    "\n",
    "def sum_gains(range_list):\n",
    "    sum_gains = 0\n",
    "    if range_list == []:\n",
    "        return sum_gains\n",
    "    \n",
    "    for a_range in range_list:\n",
    "        sum_gains += a_range[2]\n",
    "        \n",
    "    return sum_gains"
   ]
  },
  {
   "cell_type": "code",
   "execution_count": 101,
   "metadata": {
    "collapsed": false
   },
   "outputs": [
    {
     "data": {
      "text/plain": [
       "110"
      ]
     },
     "execution_count": 101,
     "metadata": {},
     "output_type": "execute_result"
    }
   ],
   "source": [
    "r_list  = find_ranges([50, 100, 20, 80, 20])\n",
    "r_list = find_overlap(r_list)\n",
    "sum_gains(r_list)"
   ]
  },
  {
   "cell_type": "code",
   "execution_count": 106,
   "metadata": {
    "collapsed": false
   },
   "outputs": [
    {
     "name": "stdout",
     "output_type": "stream",
     "text": [
      "[[0, 1, 50], [0, 2, 10], [0, 3, 100], [0, 4, 30], [1, 3, 50], [2, 3, 90], [2, 4, 20]]\n",
      "[[0, 1, 50], [0, 3, 100], [2, 3, 90], [2, 4, 20]]\n",
      "[[0, 3, 100], [2, 3, 90]]\n"
     ]
    },
    {
     "data": {
      "text/plain": [
       "190"
      ]
     },
     "execution_count": 106,
     "metadata": {},
     "output_type": "execute_result"
    }
   ],
   "source": [
    "r_list  = find_ranges([0,50,10,100,30])\n",
    "print(r_list)\n",
    "r_list = find_overlap(r_list)\n",
    "print(r_list)\n",
    "r_list = find_overlap(r_list)\n",
    "print(r_list)\n",
    "sum_gains(r_list)"
   ]
  },
  {
   "cell_type": "code",
   "execution_count": 97,
   "metadata": {
    "collapsed": true
   },
   "outputs": [],
   "source": [
    "def max_profit(prices):\n",
    "    profit = 0\n",
    "    for i in range(1, len(prices)):\n",
    "        if (prices[i] - prices[i -1]) > 0:\n",
    "            print(prices[i] - prices[i - 1], i)\n",
    "            profit = profit + (prices[i] - prices[i - 1])\n",
    "            \n",
    "    return profit if profit > 0 else 0"
   ]
  },
  {
   "cell_type": "code",
   "execution_count": 104,
   "metadata": {
    "collapsed": false
   },
   "outputs": [
    {
     "name": "stdout",
     "output_type": "stream",
     "text": [
      "50 1\n",
      "50 2\n",
      "20 4\n"
     ]
    },
    {
     "data": {
      "text/plain": [
       "120"
      ]
     },
     "execution_count": 104,
     "metadata": {},
     "output_type": "execute_result"
    }
   ],
   "source": [
    "max_profit([0, 50, 100, 10, 30])"
   ]
  },
  {
   "cell_type": "code",
   "execution_count": 107,
   "metadata": {
    "collapsed": true
   },
   "outputs": [],
   "source": [
    "def insert_star_between_pairs(a_string):\n",
    "    if a_string == \"\":\n",
    "        return \"\"\n",
    "        \n",
    "    if len(a_string) == 1:\n",
    "        return a_string\n",
    "    \n",
    "    if a_string[0] == a_string[1]:\n",
    "        return a_string[0] + '*' + insert_star_between_pairs(a_string[1:])\n",
    "    else:\n",
    "        return a_string[0] + insert_star_between_pairs(a_string[1:])"
   ]
  },
  {
   "cell_type": "code",
   "execution_count": 108,
   "metadata": {
    "collapsed": false
   },
   "outputs": [
    {
     "data": {
      "text/plain": [
       "'a'"
      ]
     },
     "execution_count": 108,
     "metadata": {},
     "output_type": "execute_result"
    }
   ],
   "source": [
    "insert_star_between_pairs('a')"
   ]
  },
  {
   "cell_type": "code",
   "execution_count": 109,
   "metadata": {
    "collapsed": false
   },
   "outputs": [
    {
     "data": {
      "text/plain": [
       "'a*a'"
      ]
     },
     "execution_count": 109,
     "metadata": {},
     "output_type": "execute_result"
    }
   ],
   "source": [
    "insert_star_between_pairs('aa')"
   ]
  },
  {
   "cell_type": "code",
   "execution_count": 110,
   "metadata": {
    "collapsed": false
   },
   "outputs": [
    {
     "data": {
      "text/plain": [
       "''"
      ]
     },
     "execution_count": 110,
     "metadata": {},
     "output_type": "execute_result"
    }
   ],
   "source": [
    "insert_star_between_pairs('')"
   ]
  },
  {
   "cell_type": "code",
   "execution_count": 111,
   "metadata": {
    "collapsed": false
   },
   "outputs": [
    {
     "data": {
      "text/plain": [
       "'ab'"
      ]
     },
     "execution_count": 111,
     "metadata": {},
     "output_type": "execute_result"
    }
   ],
   "source": [
    "insert_star_between_pairs('ab')"
   ]
  },
  {
   "cell_type": "code",
   "execution_count": 112,
   "metadata": {
    "collapsed": false
   },
   "outputs": [
    {
     "data": {
      "text/plain": [
       "'aba'"
      ]
     },
     "execution_count": 112,
     "metadata": {},
     "output_type": "execute_result"
    }
   ],
   "source": [
    "insert_star_between_pairs('aba')"
   ]
  },
  {
   "cell_type": "code",
   "execution_count": 113,
   "metadata": {
    "collapsed": false
   },
   "outputs": [
    {
     "data": {
      "text/plain": [
       "'a*a*ab*ba*ab*b*b*ba'"
      ]
     },
     "execution_count": 113,
     "metadata": {},
     "output_type": "execute_result"
    }
   ],
   "source": [
    "insert_star_between_pairs('aaabbaabbbba')"
   ]
  },
  {
   "cell_type": "code",
   "execution_count": 144,
   "metadata": {
    "collapsed": false
   },
   "outputs": [],
   "source": [
    "original = [[1, 0],[0,0]]\n",
    "rotated = [zip(*original)][::-1]\n",
    "rotated2 = zip(*original)"
   ]
  },
  {
   "cell_type": "code",
   "execution_count": 145,
   "metadata": {
    "collapsed": false
   },
   "outputs": [
    {
     "data": {
      "text/plain": [
       "[(1, 0), (0, 0)]"
      ]
     },
     "execution_count": 145,
     "metadata": {},
     "output_type": "execute_result"
    }
   ],
   "source": [
    "list(rotated2)"
   ]
  },
  {
   "cell_type": "code",
   "execution_count": 146,
   "metadata": {
    "collapsed": false
   },
   "outputs": [
    {
     "name": "stdout",
     "output_type": "stream",
     "text": [
      "[<zip object at 0x7f74376fc6c8>]\n"
     ]
    }
   ],
   "source": [
    "print(list(rotated))"
   ]
  },
  {
   "cell_type": "code",
   "execution_count": 147,
   "metadata": {
    "collapsed": false
   },
   "outputs": [
    {
     "name": "stdout",
     "output_type": "stream",
     "text": [
      "<zip object at 0x7f74376fc6c8>\n"
     ]
    }
   ],
   "source": [
    "for item in rotated:\n",
    "    print(item)"
   ]
  },
  {
   "cell_type": "raw",
   "metadata": {},
   "source": [
    "\n"
   ]
  },
  {
   "cell_type": "code",
   "execution_count": 148,
   "metadata": {
    "collapsed": false
   },
   "outputs": [
    {
     "data": {
      "text/plain": [
       "<zip at 0x7f74376fcb08>"
      ]
     },
     "execution_count": 148,
     "metadata": {},
     "output_type": "execute_result"
    }
   ],
   "source": [
    "rotated2"
   ]
  },
  {
   "cell_type": "code",
   "execution_count": 149,
   "metadata": {
    "collapsed": false
   },
   "outputs": [],
   "source": [
    "for i in rotated2:\n",
    "    print(i)"
   ]
  },
  {
   "cell_type": "code",
   "execution_count": 150,
   "metadata": {
    "collapsed": false
   },
   "outputs": [
    {
     "name": "stdout",
     "output_type": "stream",
     "text": [
      "[1, 0] [0, 0]\n"
     ]
    }
   ],
   "source": [
    "print(*original)"
   ]
  },
  {
   "cell_type": "code",
   "execution_count": 151,
   "metadata": {
    "collapsed": false
   },
   "outputs": [
    {
     "data": {
      "text/plain": [
       "<function print>"
      ]
     },
     "execution_count": 151,
     "metadata": {},
     "output_type": "execute_result"
    }
   ],
   "source": [
    "print"
   ]
  },
  {
   "cell_type": "code",
   "execution_count": 161,
   "metadata": {
    "collapsed": false
   },
   "outputs": [
    {
     "data": {
      "text/plain": [
       "[(2, 0), (3, 1)]"
      ]
     },
     "execution_count": 161,
     "metadata": {},
     "output_type": "execute_result"
    }
   ],
   "source": [
    "list(zip(*reversed([[0,1],[2,3]])))"
   ]
  },
  {
   "cell_type": "code",
   "execution_count": 166,
   "metadata": {
    "collapsed": false
   },
   "outputs": [
    {
     "data": {
      "text/plain": [
       "[(1, 3), (0, 2)]"
      ]
     },
     "execution_count": 166,
     "metadata": {},
     "output_type": "execute_result"
    }
   ],
   "source": [
    "list(reversed(list(zip(*[[0,1],[2,3]]))))"
   ]
  },
  {
   "cell_type": "code",
   "execution_count": 167,
   "metadata": {
    "collapsed": false
   },
   "outputs": [
    {
     "data": {
      "text/plain": [
       "[(3, 6, 9), (2, 5, 8), (1, 4, 7)]"
      ]
     },
     "execution_count": 167,
     "metadata": {},
     "output_type": "execute_result"
    }
   ],
   "source": [
    "matrix = [[1, 2, 3], [4, 5, 6], [7, 8, 9]]\n",
    "list(reversed(list(zip(*matrix))))"
   ]
  },
  {
   "cell_type": "code",
   "execution_count": 171,
   "metadata": {
    "collapsed": false
   },
   "outputs": [],
   "source": [
    "da_list = list(zip(*matrix))[::-1]"
   ]
  },
  {
   "cell_type": "code",
   "execution_count": 172,
   "metadata": {
    "collapsed": false
   },
   "outputs": [
    {
     "name": "stdout",
     "output_type": "stream",
     "text": [
      "(3, 6, 9)\n",
      "(2, 5, 8)\n",
      "(1, 4, 7)\n"
     ]
    }
   ],
   "source": [
    "for item in da_list:\n",
    "    print(item)"
   ]
  },
  {
   "cell_type": "code",
   "execution_count": 173,
   "metadata": {
    "collapsed": true
   },
   "outputs": [],
   "source": [
    "def excel_column_number_to_name(column_number):\n",
    "    index = column_number - 1\n",
    "    out_string = ''\n",
    "    \n",
    "    while index >= 0:\n",
    "        character = char((index%26) + ord('A'))\n",
    "        out_string = character + out_string\n",
    "        index = int(index/26) - 1\n",
    "        \n",
    "    return out_string"
   ]
  },
  {
   "cell_type": "code",
   "execution_count": 174,
   "metadata": {
    "collapsed": false
   },
   "outputs": [
    {
     "ename": "NameError",
     "evalue": "name 'char' is not defined",
     "output_type": "error",
     "traceback": [
      "\u001b[0;31m---------------------------------------------------------------------------\u001b[0m",
      "\u001b[0;31mNameError\u001b[0m                                 Traceback (most recent call last)",
      "\u001b[0;32m<ipython-input-174-5d907032f110>\u001b[0m in \u001b[0;36m<module>\u001b[0;34m()\u001b[0m\n\u001b[0;32m----> 1\u001b[0;31m \u001b[0mexcel_column_number_to_name\u001b[0m\u001b[0;34m(\u001b[0m\u001b[0;36m52\u001b[0m\u001b[0;34m)\u001b[0m\u001b[0;34m\u001b[0m\u001b[0m\n\u001b[0m",
      "\u001b[0;32m<ipython-input-173-00bf424a94c9>\u001b[0m in \u001b[0;36mexcel_column_number_to_name\u001b[0;34m(column_number)\u001b[0m\n\u001b[1;32m      4\u001b[0m \u001b[0;34m\u001b[0m\u001b[0m\n\u001b[1;32m      5\u001b[0m     \u001b[0;32mwhile\u001b[0m \u001b[0mindex\u001b[0m \u001b[0;34m>=\u001b[0m \u001b[0;36m0\u001b[0m\u001b[0;34m:\u001b[0m\u001b[0;34m\u001b[0m\u001b[0m\n\u001b[0;32m----> 6\u001b[0;31m         \u001b[0mcharacter\u001b[0m \u001b[0;34m=\u001b[0m \u001b[0mchar\u001b[0m\u001b[0;34m(\u001b[0m\u001b[0;34m(\u001b[0m\u001b[0mindex\u001b[0m\u001b[0;34m%\u001b[0m\u001b[0;36m26\u001b[0m\u001b[0;34m)\u001b[0m \u001b[0;34m+\u001b[0m \u001b[0mord\u001b[0m\u001b[0;34m(\u001b[0m\u001b[0;34m'A'\u001b[0m\u001b[0;34m)\u001b[0m\u001b[0;34m)\u001b[0m\u001b[0;34m\u001b[0m\u001b[0m\n\u001b[0m\u001b[1;32m      7\u001b[0m         \u001b[0mout_string\u001b[0m \u001b[0;34m=\u001b[0m \u001b[0mcharacter\u001b[0m \u001b[0;34m+\u001b[0m \u001b[0mout_string\u001b[0m\u001b[0;34m\u001b[0m\u001b[0m\n\u001b[1;32m      8\u001b[0m         \u001b[0mindex\u001b[0m \u001b[0;34m=\u001b[0m \u001b[0mint\u001b[0m\u001b[0;34m(\u001b[0m\u001b[0mindex\u001b[0m\u001b[0;34m/\u001b[0m\u001b[0;36m26\u001b[0m\u001b[0;34m)\u001b[0m \u001b[0;34m-\u001b[0m \u001b[0;36m1\u001b[0m\u001b[0;34m\u001b[0m\u001b[0m\n",
      "\u001b[0;31mNameError\u001b[0m: name 'char' is not defined"
     ]
    }
   ],
   "source": [
    "excel_column_number_to_name(52)"
   ]
  },
  {
   "cell_type": "code",
   "execution_count": 186,
   "metadata": {
    "collapsed": true
   },
   "outputs": [],
   "source": [
    "a_string = 'race'\n"
   ]
  },
  {
   "cell_type": "code",
   "execution_count": 187,
   "metadata": {
    "collapsed": false
   },
   "outputs": [
    {
     "data": {
      "text/plain": [
       "'racecar'"
      ]
     },
     "execution_count": 187,
     "metadata": {},
     "output_type": "execute_result"
    }
   ],
   "source": [
    "a_string + ''.join(list(reversed(a_string[0:-1])))"
   ]
  },
  {
   "cell_type": "code",
   "execution_count": 199,
   "metadata": {
    "collapsed": true
   },
   "outputs": [],
   "source": [
    "def is_palindrome(input):\n",
    "    n = len(input)\n",
    "    \n",
    "    if n == 1:\n",
    "        return True\n",
    "        \n",
    "    for i in range(n):\n",
    "        if input[i] != input[n - 1 - i]:\n",
    "            return False\n",
    "        if i >=  n/2:\n",
    "            return True"
   ]
  },
  {
   "cell_type": "code",
   "execution_count": 203,
   "metadata": {
    "collapsed": false
   },
   "outputs": [
    {
     "data": {
      "text/plain": [
       "False"
      ]
     },
     "execution_count": 203,
     "metadata": {},
     "output_type": "execute_result"
    }
   ],
   "source": [
    "is_palindrome('ra')"
   ]
  },
  {
   "cell_type": "code",
   "execution_count": 247,
   "metadata": {
    "collapsed": true
   },
   "outputs": [],
   "source": [
    "matrix = [[1, 2, 3], [4, 5, 6], [7, 8, 9]]"
   ]
  },
  {
   "cell_type": "code",
   "execution_count": 234,
   "metadata": {
    "collapsed": false
   },
   "outputs": [
    {
     "data": {
      "text/plain": [
       "[(9, 8, 7), (6, 5, 4), (3, 2, 1)]"
      ]
     },
     "execution_count": 234,
     "metadata": {},
     "output_type": "execute_result"
    }
   ],
   "source": [
    "out = list(zip(*matrix))[::-1]\n",
    "out"
   ]
  },
  {
   "cell_type": "code",
   "execution_count": 235,
   "metadata": {
    "collapsed": false
   },
   "outputs": [],
   "source": [
    "for i, item in enumerate(out):\n",
    "    for j, digit in enumerate(item):\n",
    "       matrix[i][j] = digit"
   ]
  },
  {
   "cell_type": "code",
   "execution_count": 248,
   "metadata": {
    "collapsed": false
   },
   "outputs": [
    {
     "data": {
      "text/plain": [
       "[[1, 2, 3], [4, 5, 6], [7, 8, 9]]"
      ]
     },
     "execution_count": 248,
     "metadata": {},
     "output_type": "execute_result"
    }
   ],
   "source": [
    "matrix"
   ]
  },
  {
   "cell_type": "code",
   "execution_count": 249,
   "metadata": {
    "collapsed": false
   },
   "outputs": [],
   "source": [
    "matrix = [list(i) for i in zip(*matrix)]"
   ]
  },
  {
   "cell_type": "code",
   "execution_count": 250,
   "metadata": {
    "collapsed": false
   },
   "outputs": [
    {
     "data": {
      "text/plain": [
       "[[1, 4, 7], [2, 5, 8], [3, 6, 9]]"
      ]
     },
     "execution_count": 250,
     "metadata": {},
     "output_type": "execute_result"
    }
   ],
   "source": [
    "matrix"
   ]
  },
  {
   "cell_type": "code",
   "execution_count": 251,
   "metadata": {
    "collapsed": false
   },
   "outputs": [
    {
     "data": {
      "text/plain": [
       "[[3, 6, 9], [2, 5, 8], [1, 4, 7]]"
      ]
     },
     "execution_count": 251,
     "metadata": {},
     "output_type": "execute_result"
    }
   ],
   "source": [
    "matrix[::-1]"
   ]
  },
  {
   "cell_type": "code",
   "execution_count": 255,
   "metadata": {
    "collapsed": false
   },
   "outputs": [
    {
     "name": "stdout",
     "output_type": "stream",
     "text": [
      "[1, 4, 7] 1 0 0\n",
      "[1, 4, 7] 4 0 1\n",
      "[1, 4, 7] 7 0 2\n",
      "[2, 5, 8] 2 1 0\n",
      "[2, 5, 8] 5 1 1\n",
      "[2, 5, 8] 8 1 2\n",
      "[3, 6, 9] 3 2 0\n",
      "[3, 6, 9] 6 2 1\n",
      "[3, 6, 9] 9 2 2\n"
     ]
    }
   ],
   "source": [
    "for i, row in enumerate(matrix):\n",
    "    for j, digit in enumerate(row):\n",
    "        print(row, digit, i, j)"
   ]
  },
  {
   "cell_type": "code",
   "execution_count": 319,
   "metadata": {
    "collapsed": false
   },
   "outputs": [],
   "source": [
    "def boggle_search(board, word, used_set, x, y):\n",
    "    up = False\n",
    "    right = False\n",
    "    down = False\n",
    "    left = False\n",
    "    print(used_set, x, y, board[x][y], word)\n",
    "    used_set.add((x,y))\n",
    "    \n",
    "    if board[x][y] == word:\n",
    "        return True\n",
    "    \n",
    "    word = word[1:]\n",
    "    \n",
    "    if (x - 1) >= 0 and (x - 1, y) not in used_set:\n",
    "        up = boggle_search(board, word, used_set, x - 1, y)\n",
    "        if up:\n",
    "            return up\n",
    "        \n",
    "    if (y + 1) < len(board[0])  and (x, y + 1) not in used_set:\n",
    "        right = boggle_search(board, word, used_set, x, y + 1)\n",
    "        if right:\n",
    "            return right\n",
    "        \n",
    "    if (x + 1) < len(board) and (x + 1, y) not in used_set:\n",
    "        down = boggle_search(board, word, used_set, x + 1, y)\n",
    "        if down:\n",
    "            return down\n",
    "        \n",
    "    if (y - 1) >= 0 and (x, y - 1) not in used_set:\n",
    "        left = boggle_search(board, word, used_set, x, y - 1)\n",
    "        if left:\n",
    "            return left\n",
    "    \n",
    "    return False\n",
    "    \n",
    "def boggle_board(board, word):\n",
    "    begin_list = []\n",
    "    for i, row in enumerate(board):\n",
    "        for j, char in enumerate(row):\n",
    "            #print(i, j, char, row)\n",
    "            if word[0] == char:\n",
    "                begin_list.append([i, j])\n",
    "                #print(i,j)\n",
    "    used_set = set()\n",
    "    return boggle_search(board, word, used_set, begin_list[0][0], begin_list[0][1])\n",
    "    #return begin_list"
   ]
  },
  {
   "cell_type": "code",
   "execution_count": 320,
   "metadata": {
    "collapsed": false
   },
   "outputs": [
    {
     "name": "stdout",
     "output_type": "stream",
     "text": [
      "set() 1 0 H HE\n",
      "{(1, 0)} 0 0 A E\n",
      "{(1, 0), (0, 0)} 0 1 O \n",
      "{(0, 1), (1, 0), (0, 0)} 0 2 L \n",
      "{(0, 1), (1, 0), (0, 0), (0, 2)} 1 2 L \n",
      "{(0, 1), (1, 0), (0, 0), (0, 2), (1, 2)} 2 2 I \n",
      "{(0, 1), (1, 2), (0, 0), (2, 2), (1, 0), (0, 2)} 2 1 H \n",
      "{(0, 1), (1, 2), (0, 0), (2, 1), (2, 2), (1, 0), (0, 2)} 1 1 E \n",
      "{(0, 1), (1, 2), (0, 0), (2, 1), (1, 1), (2, 2), (1, 0), (0, 2)} 2 0 G \n"
     ]
    },
    {
     "data": {
      "text/plain": [
       "False"
      ]
     },
     "execution_count": 320,
     "metadata": {},
     "output_type": "execute_result"
    }
   ],
   "source": [
    "boggle_board([['A', 'O', 'L'], ['H', 'E', 'L'], ['G', 'H', 'I']], 'HE')"
   ]
  },
  {
   "cell_type": "code",
   "execution_count": 341,
   "metadata": {
    "collapsed": true
   },
   "outputs": [],
   "source": [
    "import sys\n",
    "def largestContinuousSum(arr):\n",
    "    a_sum = -sys.maxsize - 1\n",
    "    max_sum = 0\n",
    "    \n",
    "    for i in range(1, len(arr)):\n",
    "        if arr[i - 1] + 1 == arr[i]:\n",
    "            if a_sum == -sys.maxsize - 1:\n",
    "                a_sum = arr[i - 1] + arr[i]\n",
    "            else:\n",
    "                a_sum += arr[i]\n",
    "        elif a_sum != -sys.maxsize -1 and a_sum > max_sum:\n",
    "            max_sum = a_sum\n",
    "            a_sum = -sys.maxsize - 1\n",
    "            \n",
    "    if a_sum != -sys.maxsize -1 and a_sum > max_sum:\n",
    "            max_sum = a_sum\n",
    "            a_sum = -sys.maxsize - 1\n",
    "            \n",
    "    return max_sum"
   ]
  },
  {
   "cell_type": "code",
   "execution_count": 342,
   "metadata": {
    "collapsed": false
   },
   "outputs": [
    {
     "data": {
      "text/plain": [
       "6"
      ]
     },
     "execution_count": 342,
     "metadata": {},
     "output_type": "execute_result"
    }
   ],
   "source": [
    "largestContinuousSum([1, 2, 3])"
   ]
  },
  {
   "cell_type": "code",
   "execution_count": 11,
   "metadata": {
    "collapsed": false
   },
   "outputs": [
    {
     "name": "stdout",
     "output_type": "stream",
     "text": [
      "1\n",
      "352926151 380324688 94730870\n",
      "27398537\n",
      "122129406\n"
     ]
    }
   ],
   "source": [
    "T = int(input().strip())\n",
    "for i in range(T):\n",
    "    n, m, s = map(int, input().strip().split(\" \"))\n",
    "    if n == m:\n",
    "        r = m\n",
    "    else:\n",
    "        r = m % n\n",
    "    p = s + r - 1\n",
    "    print(p)"
   ]
  },
  {
   "cell_type": "code",
   "execution_count": null,
   "metadata": {
    "collapsed": true
   },
   "outputs": [],
   "source": []
  }
 ],
 "metadata": {
  "anaconda-cloud": {},
  "kernelspec": {
   "display_name": "Python [default]",
   "language": "python",
   "name": "python3"
  },
  "language_info": {
   "codemirror_mode": {
    "name": "ipython",
    "version": 3
   },
   "file_extension": ".py",
   "mimetype": "text/x-python",
   "name": "python",
   "nbconvert_exporter": "python",
   "pygments_lexer": "ipython3",
   "version": "3.5.2"
  }
 },
 "nbformat": 4,
 "nbformat_minor": 1
}
