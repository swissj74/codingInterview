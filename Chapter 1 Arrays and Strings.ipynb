{
 "cells": [
  {
   "cell_type": "code",
   "execution_count": 1,
   "metadata": {
    "collapsed": true
   },
   "outputs": [],
   "source": [
    "def joinWords(words):\n",
    "    sentence = []\n",
    "    for w in words:\n",
    "        sentence.append(w)\n",
    "        \n",
    "    return ''.join(sentence)"
   ]
  },
  {
   "cell_type": "code",
   "execution_count": 7,
   "metadata": {
    "collapsed": false
   },
   "outputs": [
    {
     "data": {
      "text/plain": [
       "['This', 'is', 'a', 'list', 'of', 'strings']"
      ]
     },
     "execution_count": 7,
     "metadata": {},
     "output_type": "execute_result"
    }
   ],
   "source": [
    "words = ['This'\n",
    "        , 'is'\n",
    "        , 'a'\n",
    "        , 'list'\n",
    "        , 'of'\n",
    "        , 'strings']\n",
    "\n",
    "words"
   ]
  },
  {
   "cell_type": "code",
   "execution_count": 6,
   "metadata": {
    "collapsed": false
   },
   "outputs": [
    {
     "name": "stdout",
     "output_type": "stream",
     "text": [
      "Thisisalistofstrings\n"
     ]
    }
   ],
   "source": [
    "print(joinWords(words))"
   ]
  },
  {
   "cell_type": "code",
   "execution_count": 16,
   "metadata": {
    "collapsed": true
   },
   "outputs": [],
   "source": [
    "# Initialize an empty list of lists. tableSize = 11\n",
    "tableSize = 11\n",
    "table = [[] for x in range(tableSize)]\n",
    "\n",
    "def hash_function(x):\n",
    "    return x % tableSize\n",
    "\n",
    "def insert(table, key, value):\n",
    "    table[hash_function(key)].append((key, value))\n",
    "    #table[hash_function(input)].append((input,value))"
   ]
  },
  {
   "cell_type": "code",
   "execution_count": 21,
   "metadata": {
    "collapsed": false
   },
   "outputs": [],
   "source": [
    "insert(table, 41, 'apple')\n",
    "insert(table, 93, 'banana')\n",
    "insert(table, 13, 'pear')\n",
    "insert(table, 11, 'cherry')\n",
    "insert(table, 22, 'pineapple')"
   ]
  },
  {
   "cell_type": "code",
   "execution_count": 22,
   "metadata": {
    "collapsed": false
   },
   "outputs": [
    {
     "data": {
      "text/plain": [
       "[[(11, 'cherry'), (22, 'pineapple')],\n",
       " [],\n",
       " [(13, 'pear'), (13, 'pear')],\n",
       " [],\n",
       " [],\n",
       " [(93, 'banana'), (93, 'banana')],\n",
       " [],\n",
       " [],\n",
       " [(41, 'apple'), (41, 'apple'), (41, 'apple')],\n",
       " [],\n",
       " []]"
      ]
     },
     "execution_count": 22,
     "metadata": {},
     "output_type": "execute_result"
    }
   ],
   "source": [
    "table"
   ]
  },
  {
   "cell_type": "code",
   "execution_count": 41,
   "metadata": {
    "collapsed": false
   },
   "outputs": [],
   "source": [
    "# 1.1 Is Unique\n",
    "# Implement an algo to determine if a string has all unique chars.\n",
    "# 1.1.1 What if you can't use additional data structures?\n",
    "\n",
    "# Split string into chars\n",
    "# count unique chars\n",
    "# check if all counts are 1\n",
    "\n",
    "string = 'abcdefg'\n",
    "chars = list(string)\n",
    "from collections import Counter\n",
    "Counter(chars)\n",
    "\n",
    "def unique(s):\n",
    "    return len(set(s)) == len(s)"
   ]
  },
  {
   "cell_type": "code",
   "execution_count": 44,
   "metadata": {
    "collapsed": false
   },
   "outputs": [
    {
     "data": {
      "text/plain": [
       "False"
      ]
     },
     "execution_count": 44,
     "metadata": {},
     "output_type": "execute_result"
    }
   ],
   "source": [
    "string = 'aabbccddeeffg'\n",
    "unique(string)"
   ]
  },
  {
   "cell_type": "code",
   "execution_count": 52,
   "metadata": {
    "collapsed": false
   },
   "outputs": [],
   "source": [
    "# 1.2 given two strings, write a method to decide if one is a permutation of the other\n",
    "def isAnagram(string1, string2):\n",
    "    if len(string1) == len(string2):\n",
    "        return Counter(string1) == Counter(string2)\n",
    "    else:\n",
    "        return False\n",
    "\n",
    "\n",
    "## given two string, write a method to decide if one is a permuation of the other\n",
    "## uses a threshold under which we compare sorted strings\n",
    "## above which the counters are compared\n",
    "\n",
    "def is_anagram(a, b, threshold=1000000):\n",
    "    \"\"\"Returns true if one sequence is a permutation of the other.\n",
    "\n",
    "    Ignores whitespace and character case.\n",
    "    Compares sorted sequences if the length is below the threshold,\n",
    "    otherwise compares dictionaries that contain the frequency of the\n",
    "    elements.\n",
    "    \"\"\"\n",
    "    a, b = a.strip().lower(), b.strip().lower()\n",
    "    length_a, length_b = len(a), len(b)\n",
    "    if length_a != length_b:\n",
    "        return False\n",
    "    if length_a < threshold:\n",
    "        return sorted(a) == sorted(b)\n",
    "    return Counter(a) == Counter(b)  # Or use @namin's method if you don't want create\n",
    "                                     # two dictionaries and don't mind the extra typing."
   ]
  },
  {
   "cell_type": "code",
   "execution_count": 53,
   "metadata": {
    "collapsed": false
   },
   "outputs": [
    {
     "name": "stdout",
     "output_type": "stream",
     "text": [
      "False\n",
      "False\n"
     ]
    }
   ],
   "source": [
    "string = 'abc'\n",
    "other_string = 'bba'\n",
    "\n",
    "print(isAnagram(string, other_string))\n",
    "print(is_anagram(string, other_string))"
   ]
  },
  {
   "cell_type": "code",
   "execution_count": 65,
   "metadata": {
    "collapsed": false
   },
   "outputs": [],
   "source": [
    "## 1.3 URLify: Write a method to replace all spaces in a string with '%20'. You may assume that\n",
    "## the string has sufficient space at the end to hold the additional characters, and that \n",
    "## you are given the \"true\" length of the string (not really relevant in python?)\n",
    "##\n",
    "## Example: \n",
    "## Input: \"Mr John Smith    \", 13\n",
    "## Output: \"Mr%20John%20Smith\"\n",
    "\n",
    "def urlify(string):\n",
    "    the_list = list(string)\n",
    "    \n",
    "    for index, item in enumerate(the_list):\n",
    "        if item == ' ':\n",
    "            the_list[index] = '%20'\n",
    "            \n",
    "    string = ''.join(the_list)\n",
    "    \n",
    "    return string\n",
    "\n",
    "## todo: need to deal with trailing or frontrunning spaces? "
   ]
  },
  {
   "cell_type": "code",
   "execution_count": 67,
   "metadata": {
    "collapsed": false
   },
   "outputs": [
    {
     "name": "stdout",
     "output_type": "stream",
     "text": [
      "Mr%20John%20Smith%20%20\n"
     ]
    }
   ],
   "source": [
    "test_string1 = 'Mr John Smith  '\n",
    "\n",
    "print(urlify(test_string1))"
   ]
  },
  {
   "cell_type": "code",
   "execution_count": 170,
   "metadata": {
    "collapsed": false
   },
   "outputs": [],
   "source": [
    "## 1.4\n",
    "## Given a string, write a function to check if it is a permutation of a palindrome. A\n",
    "## palindrome is a word or phrase that is the same forwards and backwards. A permutation is\n",
    "## a rearrangement of letters. The palindrome does not need to be limited to just dictionary\n",
    "## words\n",
    "##\n",
    "## Example\n",
    "## Input: Tact Coa\n",
    "## Output: True (permuations\n",
    "import unittest\n",
    "from collections import Counter\n",
    "\n",
    "def is_palindrome_permuations(string):\n",
    "    string = string.replace(\" \", \"\")\n",
    "    string = string.lower()\n",
    "    char_counter = Counter(string)\n",
    "    one_count = False\n",
    "\n",
    "    \n",
    "    if sum(char_counter.values()) % 2 == 0:\n",
    "        for count in char_counter:\n",
    "            if char_counter[count] % 2 != 0:\n",
    "                return False\n",
    "    else:\n",
    "        for count in char_counter:\n",
    "            if char_counter[count] == 1 and one_count == False:\n",
    "                one_count = True\n",
    "            elif char_counter[count] % 2 != 0:\n",
    "                return False\n",
    "            \n",
    "    return True"
   ]
  },
  {
   "cell_type": "code",
   "execution_count": 171,
   "metadata": {
    "collapsed": false
   },
   "outputs": [
    {
     "data": {
      "text/plain": [
       "True"
      ]
     },
     "execution_count": 171,
     "metadata": {},
     "output_type": "execute_result"
    }
   ],
   "source": [
    "string = 'aab'\n",
    "is_palindrome_permuations(string)"
   ]
  },
  {
   "cell_type": "code",
   "execution_count": 172,
   "metadata": {
    "collapsed": false
   },
   "outputs": [],
   "source": [
    "class Test(unittest.TestCase):\n",
    "    '''Test Cases'''\n",
    "    data = [\n",
    "        ('Tact Coa', True),\n",
    "        ('jhsabckuj ahjsbckj', True),\n",
    "        ('Able was I ere I saw Elba', True),\n",
    "        ('So patient a nurse to nurse a patient so', False),\n",
    "        ('Random Words', False),\n",
    "        ('Not a Palindrome', False),\n",
    "        ('no x in nixon', True),\n",
    "        ('azAZ', True)]"
   ]
  },
  {
   "cell_type": "code",
   "execution_count": 173,
   "metadata": {
    "collapsed": false
   },
   "outputs": [
    {
     "name": "stdout",
     "output_type": "stream",
     "text": [
      "True\n",
      "True\n",
      "True\n",
      "False\n",
      "False\n",
      "False\n",
      "True\n",
      "True\n"
     ]
    }
   ],
   "source": [
    "print(is_palindrome_permuations('Tact Coa'))\n",
    "print(is_palindrome_permuations('jhsabckuj ahjsbckj'))\n",
    "print(is_palindrome_permuations('Able was I ere I saw Elba'))\n",
    "print(is_palindrome_permuations('So patient a nurse to nurse a patient so'))\n",
    "print(is_palindrome_permuations('Random Words'))\n",
    "print(is_palindrome_permuations('Not a Palindrome'))\n",
    "print(is_palindrome_permuations('no x in nixon'))\n",
    "print(is_palindrome_permuations('azAZ'))"
   ]
  },
  {
   "cell_type": "code",
   "execution_count": 174,
   "metadata": {
    "collapsed": true
   },
   "outputs": [],
   "source": [
    "from collections import Counter\n",
    "\n",
    "def canMakePalindrom(s):\n",
    "    s = s.replace(\" \", \"\")\n",
    "    s = s.lower()\n",
    "    \n",
    "    return sum(v % 2 == 1 for v in Counter(s).values()) <= 1"
   ]
  },
  {
   "cell_type": "code",
   "execution_count": 176,
   "metadata": {
    "collapsed": false
   },
   "outputs": [
    {
     "name": "stdout",
     "output_type": "stream",
     "text": [
      "True\n",
      "True\n",
      "True\n",
      "False\n",
      "False\n",
      "False\n",
      "True\n",
      "True\n"
     ]
    }
   ],
   "source": [
    "print(canMakePalindrom('ccddaabb'))\n",
    "print(canMakePalindrom('jhsabcku jahjsbckj'))\n",
    "print(canMakePalindrom('Able was I ere I saw Elba'))\n",
    "print(canMakePalindrom('So patient a nurse to nurse a patient so'))\n",
    "print(canMakePalindrom('Random Words'))\n",
    "print(canMakePalindrom('Not a Palindrome'))\n",
    "print(canMakePalindrom('no x in nixon'))\n",
    "print(canMakePalindrom('azAZ'))"
   ]
  },
  {
   "cell_type": "code",
   "execution_count": 203,
   "metadata": {
    "collapsed": true
   },
   "outputs": [],
   "source": [
    "## 1.5\n",
    "## One Away: There are three types of edits that can be performed on strings: insert a \n",
    "## character, remove a character, or replace a character. Given two strings, write a \n",
    "## function to check if they are one (or zero) edits away\n",
    "def one_away(s1, s2):\n",
    "    if len(s1) == len(s2):\n",
    "        return is_nothing(s1, s2) or is_replace(s1, s2)\n",
    "    elif len(s1) - 1 == len(s2):\n",
    "        return is_delete(s1, s2)\n",
    "    elif len(s1) + 1 == len(s2):\n",
    "        return is_insert(s1, s2)\n",
    "    return False\n",
    "\n",
    "def is_nothing(s1, s2):\n",
    "    return s1 == s2\n",
    "\n",
    "def is_delete(s1, s2):\n",
    "    for i in range(len(s1)):\n",
    "        temp = s1[:i] + s1[(i+1):]\n",
    "        \n",
    "        if temp == s2:\n",
    "            return True\n",
    "        \n",
    "    return False\n",
    "\n",
    "def is_insert(s1, s2):\n",
    "    return is_delete(s2, s1)\n",
    "\n",
    "def is_replace(s1, s2):\n",
    "    for i in range(len(s1)):\n",
    "        temp = s1[:i] + s1[(i+1):]\n",
    "        \n",
    "        if is_insert(temp, s2):\n",
    "            return True\n",
    "    \n",
    "    return False           "
   ]
  },
  {
   "cell_type": "code",
   "execution_count": 204,
   "metadata": {
    "collapsed": false
   },
   "outputs": [
    {
     "name": "stdout",
     "output_type": "stream",
     "text": [
      "One Away  True\n",
      "One Away  True\n",
      "One Away  True\n",
      "One Away  False\n"
     ]
    }
   ],
   "source": [
    "string1 = 'pale'\n",
    "string2 = 'ple'\n",
    "\n",
    "print(\"One Away \", one_away(string1, string2))\n",
    "\n",
    "string1 = 'pales'\n",
    "string2 = 'pale'\n",
    "\n",
    "print(\"One Away \", one_away(string1, string2))\n",
    "\n",
    "string1 = 'pale'\n",
    "string2 = 'bale'\n",
    "\n",
    "print(\"One Away \", one_away(string1, string2))\n",
    "\n",
    "string1 = 'pale'\n",
    "string2 = 'bake'\n",
    "\n",
    "print(\"One Away \", one_away(string1, string2))"
   ]
  },
  {
   "cell_type": "code",
   "execution_count": 223,
   "metadata": {
    "collapsed": false
   },
   "outputs": [],
   "source": [
    "## 1.6\n",
    "##\n",
    "## String Compression\n",
    "## Implement a method to perform basic string compression using the counts of repeated \n",
    "## characters. For exsample, the string aabcccccaaa would become a2b1c5a3. If the \n",
    "## \"compressed\" string would not become smaller than the original string, your method \n",
    "## should return the original string. You can assume the string has only uppercase and \n",
    "## lowercase letters (a-z)\n",
    "##\n",
    "## Questions: is AAaa = A2a2 ?\n",
    "##\n",
    "##\n",
    "def string_compression(string):\n",
    "    last_char = ''\n",
    "    count = 0\n",
    "    new_string = ''\n",
    "    \n",
    "    for char in string:\n",
    "        if char == last_char:\n",
    "            count += 1\n",
    "        else:\n",
    "            new_string = new_string + last_char + (str(count) if count > 1 else '')\n",
    "            last_char = char\n",
    "            count = 1\n",
    "            \n",
    "    new_string = new_string + last_char + (str(count) if count > 1 else '')        \n",
    "    return new_string"
   ]
  },
  {
   "cell_type": "code",
   "execution_count": 224,
   "metadata": {
    "collapsed": false
   },
   "outputs": [
    {
     "data": {
      "text/plain": [
       "'a3b2cd4'"
      ]
     },
     "execution_count": 224,
     "metadata": {},
     "output_type": "execute_result"
    }
   ],
   "source": [
    "string_compression('aaabbcdddd')"
   ]
  },
  {
   "cell_type": "code",
   "execution_count": 227,
   "metadata": {
    "collapsed": false
   },
   "outputs": [
    {
     "name": "stdout",
     "output_type": "stream",
     "text": [
      "a6\n",
      "abcdef\n",
      "ABCDEFGHIJKLMNOPQRSTUVWXYZ\n",
      "A3B4C7DEFG3HIJK2LM3N3O\n"
     ]
    }
   ],
   "source": [
    "print(string_compression('aaaaaa'))\n",
    "print(string_compression('abcdef'))\n",
    "print(string_compression('ABCDEFGHIJKLMNOPQRSTUVWXYZ'))\n",
    "print(string_compression('AAABBBBCCCCCCCDEFGGGHIJKKLMMMNNNO'))"
   ]
  },
  {
   "cell_type": "code",
   "execution_count": 290,
   "metadata": {
    "collapsed": false
   },
   "outputs": [],
   "source": [
    "## 1.7\n",
    "##\n",
    "## Rotate Matrix\n",
    "## Given an image represented by an NxN matrix, where each pixel in the image is 4 bytes, \n",
    "## write a method to roteate the image by 90 degress. Can you do this in place?\n",
    "##\n",
    "\n",
    "def rotate_90_clock(matrix):\n",
    "    n = len(matrix)\n",
    "    \n",
    "    new_matrix = [[0 for col in range(n)] for row in range(n)]\n",
    "    \n",
    "    for i in range(n):\n",
    "        for j in range(n):\n",
    "            new_matrix[i][j] = matrix[n - 1 - j][i]\n",
    "            \n",
    "    return new_matrix \n",
    "\n",
    "def rotate_90_counter(matrix):\n",
    "    n = len(matrix)\n",
    "    \n",
    "    new_matrix = [[0 for col in range(n)] for row in range(n)]\n",
    "    \n",
    "    for i in range(n):\n",
    "        for j in range(n):\n",
    "            new_matrix[i][j] = matrix[j][n - 1 - i]\n",
    "            \n",
    "    return new_matrix\n",
    "    "
   ]
  },
  {
   "cell_type": "code",
   "execution_count": 292,
   "metadata": {
    "collapsed": false
   },
   "outputs": [
    {
     "name": "stdout",
     "output_type": "stream",
     "text": [
      "[[21, 16, 11, 6, 1], [22, 17, 12, 7, 2], [23, 18, 13, 8, 3], [24, 19, 14, 9, 4], [25, 20, 15, 10, 5]]\n",
      "[[5, 10, 15, 20, 25], [4, 9, 14, 19, 24], [3, 8, 13, 18, 23], [2, 7, 12, 17, 22], [1, 6, 11, 16, 21]]\n"
     ]
    }
   ],
   "source": [
    "matrix = [[1,2,3,4,5],[6,7,8,9,10],[11, 12,13,14,15],[16,17,18,19,20],[21, 22, 23,24,25]]\n",
    "\n",
    "print(rotate_90_clock(matrix))\n",
    "print(rotate_90_counter(matrix))"
   ]
  },
  {
   "cell_type": "code",
   "execution_count": 297,
   "metadata": {
    "collapsed": false
   },
   "outputs": [],
   "source": [
    "## 1.8\n",
    "## Zero Matrix\n",
    "## Write an algorithm such that if an element in an MxN matrix is 0, its entire row and \n",
    "## column are set to 0\n",
    "##\n",
    "\n",
    "def zero_matrix(matrix):\n",
    "    m = len(matrix)\n",
    "    n = len(matrix[0])\n",
    "    \n",
    "    rows = []\n",
    "    cols = []\n",
    "    \n",
    "    for i in range(m):\n",
    "        for j in range(n):\n",
    "            if matrix[i][j] == 0:\n",
    "                rows.append(i)\n",
    "                cols.append(j)\n",
    "                \n",
    "    for row in rows:\n",
    "        nullify_row(matrix, row)\n",
    "        \n",
    "    for col in cols:\n",
    "        nullify_col(matrix, col)\n",
    "        \n",
    "    return matrix\n",
    "\n",
    "def nullify_col(matrix, col):\n",
    "    for i in range(len(matrix[0])):\n",
    "        matrix[i][col] = 0\n",
    "        \n",
    "def nullify_row(matrix, row):\n",
    "    for i in range(len(matrix)):\n",
    "        matrix[row][i] = 0\n",
    "        \n"
   ]
  },
  {
   "cell_type": "code",
   "execution_count": 298,
   "metadata": {
    "collapsed": false
   },
   "outputs": [
    {
     "data": {
      "text/plain": [
       "[[0, 0, 0, 0, 0],\n",
       " [0, 0, 0, 0, 0],\n",
       " [11, 0, 13, 14, 0],\n",
       " [0, 0, 0, 0, 0],\n",
       " [21, 0, 23, 24, 0]]"
      ]
     },
     "execution_count": 298,
     "metadata": {},
     "output_type": "execute_result"
    }
   ],
   "source": [
    "matrix = [\n",
    "            [1, 2, 3, 4, 0],\n",
    "            [6, 0, 8, 9, 10],\n",
    "            [11, 12, 13, 14, 15],\n",
    "            [16, 0, 18, 19, 20],\n",
    "            [21, 22, 23, 24, 25]\n",
    "        ]\n",
    "\n",
    "zero_matrix(matrix)"
   ]
  },
  {
   "cell_type": "code",
   "execution_count": 299,
   "metadata": {
    "collapsed": true
   },
   "outputs": [],
   "source": [
    "## 1.9\n",
    "## String Rotation\n",
    "## Assume that you have a method isSubstring which checks if one words is a substring of \n",
    "## another . Given two strings s1 and 2, write code to check if s2 is a rotation of s1 \n",
    "## using only one call to isSubstring\n",
    "##\n",
    "## Example: WATERBOTTLE -> ERBOTTLEWAT\n",
    "\n",
    "def is_substring(string, sub):\n",
    "    return string.find(sub) != -1\n",
    "\n",
    "def string_rotation(s1, s2):\n",
    "    if len(s1) == len(s2) != 0:\n",
    "        return is_substring(s2 + s2, s1)\n",
    "    \n",
    "    return False"
   ]
  },
  {
   "cell_type": "code",
   "execution_count": 302,
   "metadata": {
    "collapsed": false
   },
   "outputs": [
    {
     "data": {
      "text/plain": [
       "False"
      ]
     },
     "execution_count": 302,
     "metadata": {},
     "output_type": "execute_result"
    }
   ],
   "source": [
    "string1 = 'waterbottle'\n",
    "string2 = 'erbottlewa'\n",
    "string_rotation(string1, string2)\n",
    "\n",
    "string1 = 'foo'\n",
    "string2 = 'foofoo'\n",
    "string_rotation(string1, string2)"
   ]
  },
  {
   "cell_type": "code",
   "execution_count": null,
   "metadata": {
    "collapsed": true
   },
   "outputs": [],
   "source": [
    "memory = {}\n",
    "def fibonacci(n):\n",
    "    if n < 2:\n",
    "        return n\n",
    "    if not n in memory.keys():\n",
    "        memory[n] = fibonacci(n-1) + fibonacci(n-2)\n",
    "    return memory[n]"
   ]
  }
 ],
 "metadata": {
  "anaconda-cloud": {},
  "kernelspec": {
   "display_name": "Python [default]",
   "language": "python",
   "name": "python3"
  },
  "language_info": {
   "codemirror_mode": {
    "name": "ipython",
    "version": 3
   },
   "file_extension": ".py",
   "mimetype": "text/x-python",
   "name": "python",
   "nbconvert_exporter": "python",
   "pygments_lexer": "ipython3",
   "version": "3.5.2"
  }
 },
 "nbformat": 4,
 "nbformat_minor": 1
}
