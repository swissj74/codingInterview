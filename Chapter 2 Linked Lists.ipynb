{
 "cells": [
  {
   "cell_type": "code",
   "execution_count": 1,
   "metadata": {
    "collapsed": true
   },
   "outputs": [],
   "source": [
    "from random import randint\n",
    "\n",
    "\n",
    "class LinkedListNode:\n",
    "\n",
    "    def __init__(self, value, nextNode=None, prevNode=None):\n",
    "        self.value = value\n",
    "        self.next = nextNode\n",
    "        self.prev = prevNode\n",
    "\n",
    "    def __str__(self):\n",
    "        return str(self.value)\n",
    "\n",
    "\n",
    "class LinkedList:\n",
    "\n",
    "    def __init__(self, values=None):\n",
    "        self.head = None\n",
    "        self.tail = None\n",
    "        if values is not None:\n",
    "            self.add_multiple(values)\n",
    "\n",
    "    def __iter__(self):\n",
    "        current = self.head\n",
    "        while current:\n",
    "            yield current\n",
    "            current = current.next\n",
    "\n",
    "    def __str__(self):\n",
    "        values = [str(x) for x in self]\n",
    "        return ' -> '.join(values)\n",
    "\n",
    "    def __len__(self):\n",
    "        result = 0\n",
    "        node = self.head\n",
    "        while node:\n",
    "            result += 1\n",
    "            node = node.next\n",
    "        return result\n",
    "\n",
    "    def add(self, value):\n",
    "        if self.head is None:\n",
    "            self.tail = self.head = LinkedListNode(value)\n",
    "        else:\n",
    "            self.tail.next = LinkedListNode(value)\n",
    "            self.tail = self.tail.next\n",
    "        return self.tail\n",
    "\n",
    "    def add_to_beginning(self, value):\n",
    "        if self.head is None:\n",
    "            self.tail = self.head = LinkedListNode(value)\n",
    "        else:\n",
    "            self.head = LinkedListNode(value, self.head)\n",
    "        return self.head\n",
    "\n",
    "    def add_multiple(self, values):\n",
    "        for v in values:\n",
    "            self.add(v)\n",
    "\n",
    "    def generate(self, n, min_value, max_value):\n",
    "        self.head = self.tail = None\n",
    "        for i in range(n):\n",
    "            self.add(randint(min_value, max_value))\n",
    "        return self\n",
    "\n",
    "\n",
    "class DoublyLinkedList(LinkedList):\n",
    "\n",
    "    def add(self, value):\n",
    "        if self.head is None:\n",
    "            self.tail = self.head = LinkedListNode(value, None, self.tail)\n",
    "        else:\n",
    "            self.tail.next = LinkedListNode(value)\n",
    "            self.tail = self.tail.next\n",
    "        return self"
   ]
  },
  {
   "cell_type": "code",
   "execution_count": 2,
   "metadata": {
    "collapsed": true
   },
   "outputs": [],
   "source": [
    "## Chapter 2\n",
    "## Linked Lists\n",
    "## 2.1 \n",
    "## Remove Duplicates\n",
    "## Write code to remove duplicates from an unsorted linked list\n",
    "##\n",
    "## Follow up:\n",
    "## How would you solve this problem if a temporary buffer is not allowed?"
   ]
  },
  {
   "cell_type": "code",
   "execution_count": 3,
   "metadata": {
    "collapsed": false
   },
   "outputs": [],
   "source": [
    "def remove_dups(ll):\n",
    "    if ll.head is None:\n",
    "        return\n",
    "\n",
    "    current = ll.head\n",
    "    seen = set([current.value])\n",
    "    while current.next:\n",
    "        if current.next.value in seen:\n",
    "            current.next = current.next.next\n",
    "        else:\n",
    "            seen.add(current.next.value)\n",
    "            current = current.next\n",
    "\n",
    "    return ll\n",
    "\n",
    "\n",
    "def remove_dups_followup(ll):\n",
    "    if ll.head is None:\n",
    "        return\n",
    "\n",
    "    current = ll.head\n",
    "    while current:\n",
    "        runner = current\n",
    "        while runner.next:\n",
    "            if runner.next.value == current.value:\n",
    "                runner.next = runner.next.next\n",
    "            else:\n",
    "                runner = runner.next\n",
    "        current = current.next\n",
    "\n",
    "    return ll.head"
   ]
  },
  {
   "cell_type": "code",
   "execution_count": 4,
   "metadata": {
    "collapsed": false
   },
   "outputs": [
    {
     "name": "stdout",
     "output_type": "stream",
     "text": [
      "8 -> 5 -> 6 -> 4 -> 3 -> 5 -> 2 -> 5 -> 3 -> 7 -> 2 -> 6 -> 2 -> 0 -> 4 -> 6 -> 1 -> 1 -> 9 -> 9 -> 6 -> 6 -> 3 -> 3 -> 6 -> 8 -> 0 -> 0 -> 9 -> 3 -> 8 -> 3 -> 2 -> 5 -> 9 -> 0 -> 9 -> 1 -> 8 -> 1 -> 2 -> 9 -> 9 -> 9 -> 0 -> 7 -> 7 -> 7 -> 2 -> 1 -> 4 -> 5 -> 2 -> 7 -> 1 -> 0 -> 0 -> 4 -> 2 -> 4 -> 5 -> 6 -> 4 -> 0 -> 6 -> 7 -> 2 -> 6 -> 4 -> 5 -> 4 -> 0 -> 8 -> 3 -> 2 -> 2 -> 3 -> 2 -> 7 -> 2 -> 6 -> 5 -> 0 -> 8 -> 2 -> 0 -> 7 -> 5 -> 1 -> 9 -> 9 -> 5 -> 9 -> 1 -> 2 -> 6 -> 1 -> 5 -> 4 -> 8\n",
      "8 -> 5 -> 6 -> 4 -> 3 -> 2 -> 7 -> 0 -> 1 -> 9\n",
      "7 -> 6 -> 6 -> 2 -> 3 -> 5 -> 6 -> 2 -> 7 -> 3 -> 0 -> 3 -> 6 -> 1 -> 1 -> 1 -> 2 -> 9 -> 2 -> 7 -> 9 -> 9 -> 7 -> 1 -> 8 -> 4 -> 4 -> 5 -> 9 -> 1 -> 1 -> 3 -> 6 -> 4 -> 6 -> 1 -> 7 -> 5 -> 2 -> 0 -> 2 -> 2 -> 7 -> 3 -> 5 -> 8 -> 7 -> 4 -> 1 -> 1 -> 7 -> 5 -> 2 -> 3 -> 0 -> 8 -> 1 -> 3 -> 8 -> 4 -> 7 -> 2 -> 8 -> 7 -> 6 -> 9 -> 3 -> 2 -> 7 -> 7 -> 6 -> 8 -> 2 -> 1 -> 4 -> 3 -> 8 -> 4 -> 7 -> 1 -> 2 -> 3 -> 6 -> 9 -> 7 -> 5 -> 9 -> 3 -> 2 -> 5 -> 9 -> 9 -> 8 -> 6 -> 7 -> 9 -> 8 -> 6 -> 2 -> 5\n",
      "7 -> 6 -> 2 -> 3 -> 5 -> 0 -> 1 -> 9 -> 8 -> 4\n"
     ]
    }
   ],
   "source": [
    "ll = LinkedList()\n",
    "ll.generate(100, 0, 9)\n",
    "print(ll)\n",
    "remove_dups(ll)\n",
    "print(ll)\n",
    "\n",
    "ll.generate(100, 0, 9)\n",
    "print(ll)\n",
    "remove_dups_followup(ll)\n",
    "print(ll)"
   ]
  },
  {
   "cell_type": "code",
   "execution_count": 5,
   "metadata": {
    "collapsed": true
   },
   "outputs": [],
   "source": [
    "def print_kth_to_last(head, k):\n",
    "    if head is None:\n",
    "        return 0\n",
    "    \n",
    "    index = print_kth_to_last(head.next, k) + 1\n",
    "    \n",
    "    if index == k:\n",
    "        print(k, \"th to last node is: \", str(head.value))\n",
    "        \n",
    "    return index"
   ]
  },
  {
   "cell_type": "code",
   "execution_count": 6,
   "metadata": {
    "collapsed": false
   },
   "outputs": [
    {
     "name": "stdout",
     "output_type": "stream",
     "text": [
      "52 -> 22 -> 89 -> 1 -> 97 -> 43 -> 15 -> 32 -> 51 -> 51 -> 75 -> 96 -> 58 -> 0 -> 3 -> 28 -> 1 -> 36 -> 94 -> 16 -> 84 -> 64 -> 51 -> 95 -> 94 -> 49 -> 62 -> 24 -> 2 -> 6 -> 80 -> 58 -> 62 -> 11 -> 8 -> 56 -> 9 -> 2 -> 2 -> 48 -> 21 -> 17 -> 38 -> 0 -> 26 -> 95 -> 12 -> 94 -> 84 -> 43 -> 59 -> 94 -> 23 -> 98 -> 38 -> 5 -> 59 -> 82 -> 35 -> 72 -> 57 -> 30 -> 39 -> 71 -> 63 -> 48 -> 46 -> 92 -> 46 -> 39 -> 81 -> 83 -> 39 -> 96 -> 42 -> 84 -> 25 -> 73 -> 12 -> 82 -> 93 -> 12 -> 55 -> 36 -> 4 -> 45 -> 18 -> 57 -> 37 -> 89 -> 11 -> 64 -> 11 -> 95 -> 20 -> 22 -> 67 -> 60 -> 84 -> 38\n"
     ]
    },
    {
     "data": {
      "text/plain": [
       "100"
      ]
     },
     "execution_count": 6,
     "metadata": {},
     "output_type": "execute_result"
    }
   ],
   "source": [
    "ll.generate(100, 0, 99)\n",
    "print(ll)\n",
    "print_kth_to_last(ll.head, 101)"
   ]
  },
  {
   "cell_type": "code",
   "execution_count": 7,
   "metadata": {
    "collapsed": false
   },
   "outputs": [],
   "source": [
    "def kth_to_last(ll, k):\n",
    "    runner = current = ll.head\n",
    "    \n",
    "    for i in range(k):\n",
    "        if runner is None:\n",
    "            return None\n",
    "        runner = runner.next\n",
    "        \n",
    "    while runner:\n",
    "        current = current.next\n",
    "        runner = runner.next\n",
    "        \n",
    "    return current"
   ]
  },
  {
   "cell_type": "code",
   "execution_count": 8,
   "metadata": {
    "collapsed": false
   },
   "outputs": [
    {
     "name": "stdout",
     "output_type": "stream",
     "text": [
      "None\n"
     ]
    }
   ],
   "source": [
    "print(kth_to_last(ll, 101))"
   ]
  },
  {
   "cell_type": "code",
   "execution_count": 9,
   "metadata": {
    "collapsed": false
   },
   "outputs": [],
   "source": [
    "def delete_middle_node(node):\n",
    "    if node is None or node.next is None:\n",
    "        return False\n",
    "    \n",
    "    node.value = node.next.value\n",
    "    node.next = node.next.next\n",
    "    \n",
    "    return True"
   ]
  },
  {
   "cell_type": "code",
   "execution_count": 10,
   "metadata": {
    "collapsed": false
   },
   "outputs": [
    {
     "name": "stdout",
     "output_type": "stream",
     "text": [
      "1 -> 2 -> 3 -> 4 -> 5 -> 7 -> 8 -> 9\n",
      "1 -> 2 -> 3 -> 4 -> 7 -> 8 -> 9\n"
     ]
    }
   ],
   "source": [
    "ll = LinkedList()\n",
    "ll.add_multiple([1, 2, 3, 4])\n",
    "middle_node = ll.add(5)\n",
    "ll.add_multiple([7, 8, 9])\n",
    "\n",
    "print(ll)\n",
    "delete_middle_node(middle_node)\n",
    "print(ll)"
   ]
  },
  {
   "cell_type": "code",
   "execution_count": 13,
   "metadata": {
    "collapsed": false
   },
   "outputs": [],
   "source": [
    "def partition_stable(ll, x):\n",
    "    node = ll.tail = ll.head\n",
    "    #node = ll.head\n",
    "    \n",
    "    while node:\n",
    "        print(node.value)\n",
    "        next_node = node.next\n",
    "        node.next = None\n",
    "        \n",
    "        if node.value < x:\n",
    "            node.next = ll.head\n",
    "            ll.head = node\n",
    "        else:\n",
    "            ll.tail.next = node\n",
    "            ll.tail = node         \n",
    "        node = next_node"
   ]
  },
  {
   "cell_type": "code",
   "execution_count": 14,
   "metadata": {
    "collapsed": false
   },
   "outputs": [
    {
     "name": "stdout",
     "output_type": "stream",
     "text": [
      "9 -> 5 -> 2 -> 6 -> 1 -> 5 -> 2 -> 8 -> 6 -> 1\n"
     ]
    }
   ],
   "source": [
    "ll.generate(10, 0, 9)\n",
    "print(ll)"
   ]
  },
  {
   "cell_type": "code",
   "execution_count": 18,
   "metadata": {
    "collapsed": false
   },
   "outputs": [
    {
     "name": "stdout",
     "output_type": "stream",
     "text": [
      "2\n",
      "2\n",
      "1\n",
      "1\n",
      "9\n",
      "5\n",
      "6\n",
      "5\n",
      "8\n",
      "6\n",
      "None\n",
      "5 -> 5 -> 1 -> 1 -> 2 -> 2 -> 9 -> 6 -> 8 -> 6\n"
     ]
    }
   ],
   "source": [
    "print(partition_stable(ll, 6))\n",
    "print(ll)"
   ]
  },
  {
   "cell_type": "code",
   "execution_count": 19,
   "metadata": {
    "collapsed": true
   },
   "outputs": [],
   "source": [
    "## 2.5\n",
    "## Sum Lists\n",
    "## You have two numbers represented by a linked list, where each node contains a single \n",
    "## digit. The digits are stored in reverse order, such that the 1's digit is at the head of \n",
    "## the list. Write a function that adds the two numbers and returns the sum as a linked list\n",
    "##\n",
    "\n",
    "def add_lists(ll1, ll2):\n",
    "    node1 = ll1.head\n",
    "    node2 = ll2.head\n",
    "    \n",
    "    ll_result = LinkedList()\n",
    "    carry = 0\n",
    "    \n",
    "    while node1 or node2:\n",
    "        result = carry\n",
    "        \n",
    "        if node1:\n",
    "            result += node1.value\n",
    "            node1 = node1.next\n",
    "            \n",
    "        if node2:\n",
    "            result += node2.value\n",
    "            node2 = node2.next\n",
    "            \n",
    "        ll_result.add(result % 10)\n",
    "        carry = result // 10\n",
    "        \n",
    "    if carry:\n",
    "        ll.add(carry)\n",
    "        \n",
    "    return ll_result\n"
   ]
  },
  {
   "cell_type": "code",
   "execution_count": 31,
   "metadata": {
    "collapsed": false
   },
   "outputs": [
    {
     "name": "stdout",
     "output_type": "stream",
     "text": [
      "1 -> 7 -> 8 -> 9\n",
      "7 -> 6 -> 6\n",
      "8 -> 3 -> 5 -> 0\n"
     ]
    }
   ],
   "source": [
    "ll_a = LinkedList()\n",
    "ll_a.generate(4, 0, 9)\n",
    "ll_b = LinkedList()\n",
    "ll_b.generate(3, 0, 9)\n",
    "print(ll_a)\n",
    "print(ll_b)\n",
    "print(add_lists(ll_a, ll_b))"
   ]
  },
  {
   "cell_type": "code",
   "execution_count": 32,
   "metadata": {
    "collapsed": false
   },
   "outputs": [],
   "source": [
    "def sum_lists(ll1, ll2):\n",
    "    if len(ll1) < len(ll2):\n",
    "        for i in range(len(ll1) - len(ll2)):\n",
    "            ll1.add_to_beginning(0)\n",
    "    else:\n",
    "        for i in range(len(ll1) - len(ll2)):\n",
    "            ll2.add_to_beginning(0)\n",
    "            \n",
    "    n1, n2 = ll1.head, ll2.head\n",
    "    result = 0\n",
    "    while n1 and n2:\n",
    "        result = (result * 10) + n1.value + n2.value\n",
    "        n1 = n1.next\n",
    "        n2 = n2.next\n",
    "        \n",
    "    ll = LinkedList()\n",
    "    ll.add_multiple([int(i) for i in str(result)])\n",
    "    \n",
    "    return ll"
   ]
  },
  {
   "cell_type": "code",
   "execution_count": 33,
   "metadata": {
    "collapsed": false
   },
   "outputs": [
    {
     "name": "stdout",
     "output_type": "stream",
     "text": [
      "2 -> 5 -> 5 -> 5\n"
     ]
    }
   ],
   "source": [
    "print(sum_lists(ll_a, ll_b))"
   ]
  },
  {
   "cell_type": "code",
   "execution_count": 57,
   "metadata": {
    "collapsed": false
   },
   "outputs": [],
   "source": [
    "def is_palindrome1(ll):\n",
    "    return is_equal(ll, reverse_list(ll))\n",
    "\n",
    "def reverse_list(ll):\n",
    "    if ll.head is None:\n",
    "        print('no head')\n",
    "        return None\n",
    "    \n",
    "    node = ll.head\n",
    "    result_ll = LinkedList()\n",
    "    \n",
    "    while node:\n",
    "        result_ll.add_to_beginning(node.value)\n",
    "        node = node.next\n",
    "    \n",
    "    return result_ll\n",
    "\n",
    "def is_equal(ll1, ll2):\n",
    "    one = ll1.head\n",
    "    two = ll2.head\n",
    "    \n",
    "    while one is not None and two is not None:\n",
    "        if one.value != two.value:\n",
    "            return False\n",
    "        \n",
    "        one = one.next\n",
    "        two = two.next\n",
    "        \n",
    "    return one is None and two is None"
   ]
  },
  {
   "cell_type": "code",
   "execution_count": 75,
   "metadata": {
    "collapsed": false
   },
   "outputs": [
    {
     "name": "stdout",
     "output_type": "stream",
     "text": [
      "True\n",
      "False\n",
      "False\n"
     ]
    }
   ],
   "source": [
    "ll_true = LinkedList([1, 2, 3, 4, 5, 4, 3, 2, 1])\n",
    "print(is_palindrome1(ll_true))\n",
    "ll_false = LinkedList([1, 2, 3, 4, 5, 6, 7, 8, 9])\n",
    "print(is_palindrome1(ll_false))\n",
    "ll = LinkedList([1, 2])\n",
    "print(is_palindrome1(ll))"
   ]
  },
  {
   "cell_type": "code",
   "execution_count": 76,
   "metadata": {
    "collapsed": true
   },
   "outputs": [],
   "source": [
    "def is_palindrome2(ll):\n",
    "    slow = fast = ll.head\n",
    "    stack = []\n",
    "    \n",
    "    while fast and fast.next:\n",
    "        stack.append(slow.value)\n",
    "        slow = slow.next\n",
    "        fast = fast.next.next\n",
    "        \n",
    "    if fast:\n",
    "        slow = slow.next\n",
    "        \n",
    "    while slow:\n",
    "        top = stack.pop()\n",
    "        \n",
    "        if top != slow.value:\n",
    "            return False\n",
    "        \n",
    "        slow = slow.next\n",
    "    \n",
    "    return True"
   ]
  },
  {
   "cell_type": "code",
   "execution_count": 77,
   "metadata": {
    "collapsed": false
   },
   "outputs": [
    {
     "name": "stdout",
     "output_type": "stream",
     "text": [
      "True\n",
      "False\n",
      "False\n"
     ]
    }
   ],
   "source": [
    "print(is_palindrome2(ll_true))\n",
    "\n",
    "print(is_palindrome2(ll_false))\n",
    "\n",
    "print(is_palindrome2(ll))"
   ]
  },
  {
   "cell_type": "code",
   "execution_count": 78,
   "metadata": {
    "collapsed": false
   },
   "outputs": [],
   "source": [
    "def is_palindrome3(ll):\n",
    "    length = len(ll)\n",
    "    node = ll.head\n",
    "        \n",
    "    p = is_palindrome_recursive(node, length)\n",
    "    return p \n",
    "\n",
    "def is_palindrome_recursive(node, length):\n",
    "    # at middle lenght zero and lenght 1 are palindrome by definition\n",
    "    if node is None or length <= 0:\n",
    "        return node, True\n",
    "    elif length == 1:\n",
    "        return node.next, True\n",
    "    \n",
    "    result_node, result = is_palindrome_recursive(node.next, length - 2)\n",
    "    \n",
    "    if not result or result_node is None:\n",
    "        return result_node, result\n",
    "    \n",
    "    result = (node.value == result_node.value)\n",
    "    \n",
    "    result_node = result_node.next\n",
    "    \n",
    "    return result_node, result"
   ]
  },
  {
   "cell_type": "code",
   "execution_count": 81,
   "metadata": {
    "collapsed": false
   },
   "outputs": [
    {
     "name": "stdout",
     "output_type": "stream",
     "text": [
      "True\n",
      "False\n",
      "False\n"
     ]
    }
   ],
   "source": [
    "print(is_palindrome3(ll_true)[1])\n",
    "\n",
    "print(is_palindrome3(ll_false)[1])\n",
    "\n",
    "print(is_palindrome3(ll)[1])"
   ]
  },
  {
   "cell_type": "code",
   "execution_count": 82,
   "metadata": {
    "collapsed": true
   },
   "outputs": [],
   "source": [
    "## 2.7\n",
    "## Intersection\n",
    "## Given two (singly) linked lists, determine if the two lists intersect. Return the \n",
    "## intersecting node. Not that intersection is defined based on reference, not value\n",
    "##\n",
    "\n",
    "def intersection(ll1, ll2):\n",
    "    if ll1.tail != ll2.tail:\n",
    "        return False, None\n",
    "    \n",
    "    shorter = ll1 if len(ll1) < len(ll2) else ll2\n",
    "    longer = ll2 if len(ll1) < len(ll2) else ll1\n",
    "    \n",
    "    diff = longer - shorter\n",
    "    \n",
    "    shorter_node, longer_node = short.head, longer.head\n",
    "    \n",
    "    for i in range(diff):\n",
    "        longer_node = longer_node.next\n",
    "        \n",
    "    while shorter_node is not longer_node:\n",
    "        shorter_node = shorter_node.next\n",
    "        longer_node = longer_node.next\n",
    "        \n",
    "    return longer_node"
   ]
  },
  {
   "cell_type": "code",
   "execution_count": 83,
   "metadata": {
    "collapsed": true
   },
   "outputs": [],
   "source": [
    "def loop_detection(ll):\n",
    "    fast = slow = ll.head\n",
    "    \n",
    "    while fast and fast.next and fast is not slow:\n",
    "        fast = fast.next.next\n",
    "        slow = slow.next\n",
    "        \n",
    "    if fast is None or fast.next is None:\n",
    "        return None\n",
    "    \n",
    "    slow = ll.head\n",
    "    \n",
    "    while fast is not slow:\n",
    "        fast = fast.next\n",
    "        slow = slow.next\n",
    "        \n",
    "    return fast\n",
    "        "
   ]
  },
  {
   "cell_type": "code",
   "execution_count": null,
   "metadata": {
    "collapsed": true
   },
   "outputs": [],
   "source": []
  }
 ],
 "metadata": {
  "anaconda-cloud": {},
  "kernelspec": {
   "display_name": "Python [default]",
   "language": "python",
   "name": "python3"
  },
  "language_info": {
   "codemirror_mode": {
    "name": "ipython",
    "version": 3
   },
   "file_extension": ".py",
   "mimetype": "text/x-python",
   "name": "python",
   "nbconvert_exporter": "python",
   "pygments_lexer": "ipython3",
   "version": "3.5.2"
  }
 },
 "nbformat": 4,
 "nbformat_minor": 1
}
