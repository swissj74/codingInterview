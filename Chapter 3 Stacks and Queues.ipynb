{
 "cells": [
  {
   "cell_type": "code",
   "execution_count": 8,
   "metadata": {
    "collapsed": true
   },
   "outputs": [],
   "source": [
    "## Implement a stack using python lists\n",
    "\n",
    "class Stack:\n",
    "    def __init__(self):\n",
    "        self.items = []\n",
    "        \n",
    "    def isEmpty(self):\n",
    "        return self.items == []\n",
    "    \n",
    "    def push(self, item):\n",
    "        self.items.append(item)\n",
    "        \n",
    "    def pop(self):\n",
    "        return self.items.pop()\n",
    "        \n",
    "    def peek(self):\n",
    "        return self.items[len(self.items) - 1]\n",
    "        \n",
    "    def size(self):\n",
    "        return len(self.items)"
   ]
  },
  {
   "cell_type": "code",
   "execution_count": 10,
   "metadata": {
    "collapsed": false
   },
   "outputs": [
    {
     "name": "stdout",
     "output_type": "stream",
     "text": [
      "True\n",
      "dog\n",
      "3\n",
      "False\n",
      "8.4\n",
      "True\n",
      "2\n"
     ]
    }
   ],
   "source": [
    "s=Stack()\n",
    "\n",
    "print(s.isEmpty())\n",
    "s.push(4)\n",
    "s.push('dog')\n",
    "print(s.peek())\n",
    "s.push(True)\n",
    "print(s.size())\n",
    "print(s.isEmpty())\n",
    "s.push(8.4)\n",
    "print(s.pop())\n",
    "print(s.pop())\n",
    "print(s.size())"
   ]
  },
  {
   "cell_type": "code",
   "execution_count": 11,
   "metadata": {
    "collapsed": true
   },
   "outputs": [],
   "source": [
    "## 3.1 Describe how you could use a single array to implement 3 stacks\n",
    "\n",
    "class multi_stack:\n",
    "    def __init__(self, stacksize):\n",
    "        self.numstacks = 3\n",
    "        self.array = [0] * (stacksize * self.numstacks)\n",
    "        self.sizes = [0] * self.numstacks\n",
    "        self.stacksize = stacksize\n",
    "        \n",
    "    def push(self, item, stacknum):\n",
    "        if self.isFull(stacknum):\n",
    "            raise Exception('Stack is full')\n",
    "        self.sizes[stacknum] +=1\n",
    "        self.array[self.index_of_top(stacknum)] = item\n",
    "        \n",
    "    def pop(self, stacknum):\n",
    "        if self.isEmpty(stacknum):\n",
    "            raise Exception('Stack is empty')\n",
    "        value = self.array[self.index_of_top(stacknum)]\n",
    "        self.array[self.index_of_top(stacknum)] = 0\n",
    "        self.sizes[stacknum] -= 1\n",
    "        return value\n",
    "    \n",
    "    def peek(self, stacknum):\n",
    "        if self.isEmpty(stacknum):\n",
    "            raise Exception('Stack is Empty')\n",
    "        value = self.array[self.index_of_top(stacknum)]\n",
    "        return value   \n",
    "        \n",
    "    def isEmpty(self, stacknum):\n",
    "        return self.sizes[stacknum] == 0\n",
    "    \n",
    "    def isFull(self, stacknum):\n",
    "        return self.sizes[stacknum] == self.stacksize\n",
    "    \n",
    "    def index_of_top(self, stacknum):\n",
    "        offset = stacknum * self.stacksize\n",
    "        return offset + self.sizes[stacknum] - 1"
   ]
  },
  {
   "cell_type": "code",
   "execution_count": 14,
   "metadata": {
    "collapsed": false
   },
   "outputs": [],
   "source": [
    "def ThreeInOne():\n",
    "    newstack = multi_stack(2)\n",
    "    print(newstack.isEmpty(1))\n",
    "    newstack.push(3, 1)\n",
    "    print(newstack.peek(1))\n",
    "    print(newstack.isEmpty(1))\n",
    "    newstack.push(2, 1)\n",
    "    print(newstack.peek(1))\n",
    "    print(newstack.pop(1))\n",
    "    print(newstack.peek(1))\n",
    "    newstack.push(3, 1)\n",
    "    \n"
   ]
  },
  {
   "cell_type": "code",
   "execution_count": 15,
   "metadata": {
    "collapsed": false
   },
   "outputs": [
    {
     "name": "stdout",
     "output_type": "stream",
     "text": [
      "True\n",
      "3\n",
      "False\n",
      "2\n",
      "2\n",
      "3\n"
     ]
    }
   ],
   "source": [
    "ThreeInOne()"
   ]
  },
  {
   "cell_type": "code",
   "execution_count": 24,
   "metadata": {
    "collapsed": true
   },
   "outputs": [],
   "source": [
    "## 3.2 How would you design a stack which, in addition to push and pop, has a function min \n",
    "## which returns the minimum. Push, pop and min should all operate in O(1) time\n",
    "\n",
    "class min_stack:\n",
    "    def __init__(self):\n",
    "        self.items = []\n",
    "        self.min_vals = []\n",
    "        \n",
    "    def push(self, item):\n",
    "        if self.isEmpty():\n",
    "            self.min_vals.append(item)\n",
    "        else:\n",
    "            min_val = min(item, self.min_vals[len(self.min_vals) -1])\n",
    "            self.min_vals.append(min_val)\n",
    "        self.items.append(item)\n",
    "        \n",
    "    def pop(self):\n",
    "        if self.isEmpty():\n",
    "            raise Exception('Empty Stack')\n",
    "            \n",
    "        return self.items.pop(), self.min_vals.pop()\n",
    "    \n",
    "    def peek(self):\n",
    "        if self.isEmpty():\n",
    "            raise Exception('Empty Stack')\n",
    "        \n",
    "        return self.items[len(self.items) - 1], self.min_vals[len(self.min_vals) - 1]\n",
    "    \n",
    "    def isEmpty(self):\n",
    "        return self.items == [] or self.min_vals == []\n",
    "    \n",
    "    def get_min(self):\n",
    "        return self.min_vals[len(self.min_vals) - 1]"
   ]
  },
  {
   "cell_type": "code",
   "execution_count": 25,
   "metadata": {
    "collapsed": true
   },
   "outputs": [],
   "source": [
    "def StackMin():\n",
    "    newstack = min_stack()\n",
    "    newstack.push(5)\n",
    "    newstack.push(6)\n",
    "    newstack.push(2)\n",
    "    newstack.push(7)\n",
    "    newstack.push(14)\n",
    "    newstack.push(3)\n",
    "    print(newstack.get_min())\n",
    "    newstack.push(1)\n",
    "    newstack.push(4)\n",
    "    newstack.push(44)\n",
    "    newstack.push(2)\n",
    "    print(newstack.get_min())"
   ]
  },
  {
   "cell_type": "code",
   "execution_count": 26,
   "metadata": {
    "collapsed": false
   },
   "outputs": [
    {
     "name": "stdout",
     "output_type": "stream",
     "text": [
      "2\n",
      "1\n"
     ]
    }
   ],
   "source": [
    "StackMin()"
   ]
  },
  {
   "cell_type": "code",
   "execution_count": null,
   "metadata": {
    "collapsed": true
   },
   "outputs": [],
   "source": []
  }
 ],
 "metadata": {
  "anaconda-cloud": {},
  "kernelspec": {
   "display_name": "Python [default]",
   "language": "python",
   "name": "python3"
  },
  "language_info": {
   "codemirror_mode": {
    "name": "ipython",
    "version": 3
   },
   "file_extension": ".py",
   "mimetype": "text/x-python",
   "name": "python",
   "nbconvert_exporter": "python",
   "pygments_lexer": "ipython3",
   "version": "3.5.2"
  }
 },
 "nbformat": 4,
 "nbformat_minor": 1
}
